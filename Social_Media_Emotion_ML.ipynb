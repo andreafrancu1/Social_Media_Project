{
 "cells": [
  {
   "cell_type": "markdown",
   "id": "e865da83",
   "metadata": {},
   "source": [
    "# Social Media Use and its Impact on Human Emotion\n",
    "## Andrea Francu\n",
    "### Final project for DTSA 5509 Introduction to Machine Learning: Supervised Learning"
   ]
  },
  {
   "cell_type": "markdown",
   "id": "55a5b0bd",
   "metadata": {},
   "source": [
    "This project takes a look at social media usage metrics and utilizes various models to attempt to accurately predict a user's mood. This problem can be approached in many ways, and this project uses both linear regression, lasso and ridge regression, and random forest classifier to find the best way to achieve this goal. "
   ]
  },
  {
   "cell_type": "code",
   "execution_count": 1,
   "id": "c5fe672e",
   "metadata": {},
   "outputs": [],
   "source": [
    "import pandas as pd\n",
    "import numpy as np\n",
    "import matplotlib.pyplot as plt\n",
    "import seaborn as sns\n",
    "import statsmodels.formula.api as smf\n",
    "from sklearn.model_selection import train_test_split\n",
    "from sklearn.linear_model import LinearRegression\n",
    "from sklearn.linear_model import LogisticRegression\n",
    "from sklearn.preprocessing import StandardScaler\n",
    "from sklearn.ensemble import RandomForestClassifier\n",
    "from statsmodels.stats.outliers_influence import variance_inflation_factor\n",
    "from sklearn.metrics import accuracy_score, precision_score, recall_score, f1_score, roc_auc_score, classification_report\n",
    "from sklearn.metrics import confusion_matrix, ConfusionMatrixDisplay"
   ]
  },
  {
   "cell_type": "markdown",
   "id": "d469412e",
   "metadata": {},
   "source": [
    "## EDA\n",
    "The data set used is sourced from Kaggle and titled \"Social Media Usage and Emotional Well-Being.\" \n",
    "\n",
    "This dataset can be found here: https://www.kaggle.com/datasets/emirhanai/social-media-usage-and-emotional-well-being/data?select=val.csv\n",
    "\n",
    "This dataset contains 10 features (descriptions are paraphrased from the kaggle description):\n",
    "- **User_ID**: User's unique identifier\n",
    "- **Age**: User's age\n",
    "- **Gender**: User's gender (Female, Male, Non-binary)\n",
    "- **Platform**: Social media platform used\n",
    "- **Daily_Usage_Time (minutes)**: Daily social media usage of the user on the platform\n",
    "- **Posts_Per_Day**: Number of posts made by the user per day\n",
    "- **Likes_Received_Per_Day**: Number of likes the user receives per day\n",
    "- **Comments_Receiver_Per_Day**: Number of comments the user receives per day\n",
    "- **Messages_Sent_Per_Day**: Number of messages the user sends per day\n",
    "- **Dominant_Emotion**: User's dominant emotion during the day\n",
    "\n",
    "Dominant_Emotion is the target variable for this project, and the goal is to find the most significant predictors of this and build a model that accurately predicts this emotion based on those features."
   ]
  },
  {
   "cell_type": "code",
   "execution_count": 2,
   "id": "105c584a",
   "metadata": {},
   "outputs": [],
   "source": [
    "train = pd.read_csv(\"train.csv\")\n",
    "test = pd.read_csv(\"test.csv\")\n",
    "val = pd.read_csv(\"val.csv\", on_bad_lines = 'skip')"
   ]
  },
  {
   "cell_type": "markdown",
   "id": "6f68ab1c",
   "metadata": {},
   "source": [
    "Upon loading in the csv's, an error comes up with val.csv when using read_csv:\n",
    "\n",
    "ParserError: Error tokenizing data. C error: Expected 10 fields in line 91, saw 11\n",
    "\n",
    "This indicates something wrong with the data, since it's supposed to have 10 fields. Looking in the csv to find the root of this error, it is clear that line 91 has an issue, where the \"Dominant_Emotion\" is moved over a column to the right. This error indicates possible faulty data, so removing the whole data point is most conservative in case of fault data. This can be done by setting the read_csv parameter \"on_bad_lines\" to 'skip'.\n",
    "\n",
    "Note: This dataset comes with 3 files: test, train, and val (validation); however, combining these files into one and then splitting the data can help reduce any bias, as the method for splitting this data prior is not stated in the description."
   ]
  },
  {
   "cell_type": "code",
   "execution_count": 3,
   "id": "4dcbc8a4",
   "metadata": {
    "scrolled": false
   },
   "outputs": [
    {
     "name": "stdout",
     "output_type": "stream",
     "text": [
      "<class 'pandas.core.frame.DataFrame'>\n",
      "RangeIndex: 1249 entries, 0 to 1248\n",
      "Data columns (total 10 columns):\n",
      " #   Column                      Non-Null Count  Dtype  \n",
      "---  ------                      --------------  -----  \n",
      " 0   User_ID                     1249 non-null   object \n",
      " 1   Age                         1249 non-null   object \n",
      " 2   Gender                      1248 non-null   object \n",
      " 3   Platform                    1248 non-null   object \n",
      " 4   Daily_Usage_Time (minutes)  1248 non-null   float64\n",
      " 5   Posts_Per_Day               1248 non-null   float64\n",
      " 6   Likes_Received_Per_Day      1248 non-null   float64\n",
      " 7   Comments_Received_Per_Day   1248 non-null   float64\n",
      " 8   Messages_Sent_Per_Day       1248 non-null   object \n",
      " 9   Dominant_Emotion            1247 non-null   object \n",
      "dtypes: float64(4), object(6)\n",
      "memory usage: 97.7+ KB\n"
     ]
    },
    {
     "data": {
      "text/html": [
       "<div>\n",
       "<style scoped>\n",
       "    .dataframe tbody tr th:only-of-type {\n",
       "        vertical-align: middle;\n",
       "    }\n",
       "\n",
       "    .dataframe tbody tr th {\n",
       "        vertical-align: top;\n",
       "    }\n",
       "\n",
       "    .dataframe thead th {\n",
       "        text-align: right;\n",
       "    }\n",
       "</style>\n",
       "<table border=\"1\" class=\"dataframe\">\n",
       "  <thead>\n",
       "    <tr style=\"text-align: right;\">\n",
       "      <th></th>\n",
       "      <th>User_ID</th>\n",
       "      <th>Age</th>\n",
       "      <th>Gender</th>\n",
       "      <th>Platform</th>\n",
       "      <th>Daily_Usage_Time (minutes)</th>\n",
       "      <th>Posts_Per_Day</th>\n",
       "      <th>Likes_Received_Per_Day</th>\n",
       "      <th>Comments_Received_Per_Day</th>\n",
       "      <th>Messages_Sent_Per_Day</th>\n",
       "      <th>Dominant_Emotion</th>\n",
       "    </tr>\n",
       "  </thead>\n",
       "  <tbody>\n",
       "    <tr>\n",
       "      <th>0</th>\n",
       "      <td>1</td>\n",
       "      <td>25</td>\n",
       "      <td>Female</td>\n",
       "      <td>Instagram</td>\n",
       "      <td>120.0</td>\n",
       "      <td>3.0</td>\n",
       "      <td>45.0</td>\n",
       "      <td>10.0</td>\n",
       "      <td>12.0</td>\n",
       "      <td>Happiness</td>\n",
       "    </tr>\n",
       "    <tr>\n",
       "      <th>1</th>\n",
       "      <td>2</td>\n",
       "      <td>30</td>\n",
       "      <td>Male</td>\n",
       "      <td>Twitter</td>\n",
       "      <td>90.0</td>\n",
       "      <td>5.0</td>\n",
       "      <td>20.0</td>\n",
       "      <td>25.0</td>\n",
       "      <td>30.0</td>\n",
       "      <td>Anger</td>\n",
       "    </tr>\n",
       "    <tr>\n",
       "      <th>2</th>\n",
       "      <td>3</td>\n",
       "      <td>22</td>\n",
       "      <td>Non-binary</td>\n",
       "      <td>Facebook</td>\n",
       "      <td>60.0</td>\n",
       "      <td>2.0</td>\n",
       "      <td>15.0</td>\n",
       "      <td>5.0</td>\n",
       "      <td>20.0</td>\n",
       "      <td>Neutral</td>\n",
       "    </tr>\n",
       "    <tr>\n",
       "      <th>3</th>\n",
       "      <td>4</td>\n",
       "      <td>28</td>\n",
       "      <td>Female</td>\n",
       "      <td>Instagram</td>\n",
       "      <td>200.0</td>\n",
       "      <td>8.0</td>\n",
       "      <td>100.0</td>\n",
       "      <td>30.0</td>\n",
       "      <td>50.0</td>\n",
       "      <td>Anxiety</td>\n",
       "    </tr>\n",
       "    <tr>\n",
       "      <th>4</th>\n",
       "      <td>5</td>\n",
       "      <td>33</td>\n",
       "      <td>Male</td>\n",
       "      <td>LinkedIn</td>\n",
       "      <td>45.0</td>\n",
       "      <td>1.0</td>\n",
       "      <td>5.0</td>\n",
       "      <td>2.0</td>\n",
       "      <td>10.0</td>\n",
       "      <td>Boredom</td>\n",
       "    </tr>\n",
       "  </tbody>\n",
       "</table>\n",
       "</div>"
      ],
      "text/plain": [
       "  User_ID Age      Gender   Platform  Daily_Usage_Time (minutes)  \\\n",
       "0       1  25      Female  Instagram                       120.0   \n",
       "1       2  30        Male    Twitter                        90.0   \n",
       "2       3  22  Non-binary   Facebook                        60.0   \n",
       "3       4  28      Female  Instagram                       200.0   \n",
       "4       5  33        Male   LinkedIn                        45.0   \n",
       "\n",
       "   Posts_Per_Day  Likes_Received_Per_Day  Comments_Received_Per_Day  \\\n",
       "0            3.0                    45.0                       10.0   \n",
       "1            5.0                    20.0                       25.0   \n",
       "2            2.0                    15.0                        5.0   \n",
       "3            8.0                   100.0                       30.0   \n",
       "4            1.0                     5.0                        2.0   \n",
       "\n",
       "  Messages_Sent_Per_Day Dominant_Emotion  \n",
       "0                  12.0        Happiness  \n",
       "1                  30.0            Anger  \n",
       "2                  20.0          Neutral  \n",
       "3                  50.0          Anxiety  \n",
       "4                  10.0          Boredom  "
      ]
     },
     "execution_count": 3,
     "metadata": {},
     "output_type": "execute_result"
    }
   ],
   "source": [
    "data = pd.concat([train, test, val], ignore_index = True)\n",
    "data.info()\n",
    "data.head()"
   ]
  },
  {
   "cell_type": "markdown",
   "id": "ec06277e",
   "metadata": {},
   "source": [
    "Now that the data is combined, some of the characteristics can be displayed with data.head(). \n",
    "\n",
    "**Data Size**: The data has 1249 entries, with 10 columns (parameters)\n",
    "\n",
    "**User_ID**, **Age**, **Gender**, **Platform**, **Messages_Sent_Per_Day**, and **Dominant_Emotion** are all objects, whereas **Daily_Usage_Time**, **Posts_Per_Day**, **Likes_Received_Per_Day**, and **Comments_Receiver_Per_Day** are float64 by default.\n",
    "___"
   ]
  },
  {
   "cell_type": "markdown",
   "id": "2ffac41a",
   "metadata": {},
   "source": [
    "## Data Cleaning\n",
    "This section was performed *iteratively*, meaning that some of the data cleaning steps were performed after an initial model was made, due to discoveries that came out of these models the pointed to further steps that needed to be taken to clean and organize the data."
   ]
  },
  {
   "cell_type": "markdown",
   "id": "abe474ef",
   "metadata": {},
   "source": [
    "The first thing that can be done is dropping the **User_ID** column, because it doesn't provide any meaningful insight as a predictor."
   ]
  },
  {
   "cell_type": "code",
   "execution_count": 4,
   "id": "97b75eaa",
   "metadata": {},
   "outputs": [
    {
     "name": "stdout",
     "output_type": "stream",
     "text": [
      "<class 'pandas.core.frame.DataFrame'>\n",
      "RangeIndex: 1249 entries, 0 to 1248\n",
      "Data columns (total 9 columns):\n",
      " #   Column                      Non-Null Count  Dtype  \n",
      "---  ------                      --------------  -----  \n",
      " 0   Age                         1249 non-null   object \n",
      " 1   Gender                      1248 non-null   object \n",
      " 2   Platform                    1248 non-null   object \n",
      " 3   Daily_Usage_Time (minutes)  1248 non-null   float64\n",
      " 4   Posts_Per_Day               1248 non-null   float64\n",
      " 5   Likes_Received_Per_Day      1248 non-null   float64\n",
      " 6   Comments_Received_Per_Day   1248 non-null   float64\n",
      " 7   Messages_Sent_Per_Day       1248 non-null   object \n",
      " 8   Dominant_Emotion            1247 non-null   object \n",
      "dtypes: float64(4), object(5)\n",
      "memory usage: 87.9+ KB\n"
     ]
    }
   ],
   "source": [
    "data.drop(['User_ID'], axis = 1, inplace = True)\n",
    "data.info()"
   ]
  },
  {
   "cell_type": "markdown",
   "id": "c4fe61dc",
   "metadata": {},
   "source": [
    "To get a better idea of whats in each feature, nunique() can be used to see how many unique values are listed for each category"
   ]
  },
  {
   "cell_type": "code",
   "execution_count": 5,
   "id": "34efe1b8",
   "metadata": {
    "scrolled": false
   },
   "outputs": [
    {
     "data": {
      "text/plain": [
       "Age                           19\n",
       "Gender                        20\n",
       "Platform                       8\n",
       "Daily_Usage_Time (minutes)    34\n",
       "Posts_Per_Day                 10\n",
       "Likes_Received_Per_Day        55\n",
       "Comments_Received_Per_Day     31\n",
       "Messages_Sent_Per_Day         59\n",
       "Dominant_Emotion               7\n",
       "dtype: int64"
      ]
     },
     "execution_count": 5,
     "metadata": {},
     "output_type": "execute_result"
    }
   ],
   "source": [
    "data.nunique()"
   ]
  },
  {
   "cell_type": "markdown",
   "id": "ad37e588",
   "metadata": {},
   "source": [
    "This summary indicates there may be something wrong with the gender category, since the Kaggle page stated 3 options for this category but there are 20 unique entries. A value count of the entries in this can give more insight into the issue:"
   ]
  },
  {
   "cell_type": "code",
   "execution_count": 6,
   "id": "1cea8ffe",
   "metadata": {},
   "outputs": [
    {
     "data": {
      "text/plain": [
       "Female        415\n",
       "Male          411\n",
       "Non-binary    331\n",
       "29             10\n",
       "28             10\n",
       "24              9\n",
       "27              9\n",
       "31              8\n",
       "22              8\n",
       "33              6\n",
       "25              6\n",
       "34              6\n",
       "26              5\n",
       "21              4\n",
       "30              2\n",
       "23              2\n",
       "35              2\n",
       "32              2\n",
       "Marie           1\n",
       "Facebook        1\n",
       "Name: Gender, dtype: int64"
      ]
     },
     "execution_count": 6,
     "metadata": {},
     "output_type": "execute_result"
    }
   ],
   "source": [
    "data['Gender'].value_counts()"
   ]
  },
  {
   "cell_type": "markdown",
   "id": "e91f92b2",
   "metadata": {},
   "source": [
    "It looks like some of the entries got set in the wrong column. It looks like these got mixed up mostly with the age column, which is right next to the Gender one. This can be confirmed by checking the value counts of the age column."
   ]
  },
  {
   "cell_type": "code",
   "execution_count": 7,
   "id": "420539e5",
   "metadata": {},
   "outputs": [
    {
     "data": {
      "text/plain": [
       "28                                                      120\n",
       "27                                                      116\n",
       "29                                                      111\n",
       "26                                                       88\n",
       "22                                                       86\n",
       "24                                                       84\n",
       "31                                                       82\n",
       "25                                                       79\n",
       "21                                                       69\n",
       "23                                                       68\n",
       "33                                                       67\n",
       "30                                                       51\n",
       "32                                                       47\n",
       "35                                                       46\n",
       "34                                                       44\n",
       "Female                                                   34\n",
       "Male                                                     33\n",
       "Non-binary                                               23\n",
       " işte mevcut veri kümesini 1000 satıra tamamlıyorum:      1\n",
       "Name: Age, dtype: int64"
      ]
     },
     "execution_count": 7,
     "metadata": {},
     "output_type": "execute_result"
    }
   ],
   "source": [
    "data['Age'].value_counts()"
   ]
  },
  {
   "cell_type": "markdown",
   "id": "6bb9c6b3",
   "metadata": {},
   "source": [
    "A simple resolution for this issue is to swap age and gender anywhere that age is set to a value that should be in the gender category. The first step is to find the indices where this occurs:"
   ]
  },
  {
   "cell_type": "code",
   "execution_count": 8,
   "id": "dcd7e222",
   "metadata": {},
   "outputs": [
    {
     "data": {
      "text/html": [
       "<div>\n",
       "<style scoped>\n",
       "    .dataframe tbody tr th:only-of-type {\n",
       "        vertical-align: middle;\n",
       "    }\n",
       "\n",
       "    .dataframe tbody tr th {\n",
       "        vertical-align: top;\n",
       "    }\n",
       "\n",
       "    .dataframe thead th {\n",
       "        text-align: right;\n",
       "    }\n",
       "</style>\n",
       "<table border=\"1\" class=\"dataframe\">\n",
       "  <thead>\n",
       "    <tr style=\"text-align: right;\">\n",
       "      <th></th>\n",
       "      <th>Age</th>\n",
       "      <th>Gender</th>\n",
       "      <th>Platform</th>\n",
       "      <th>Daily_Usage_Time (minutes)</th>\n",
       "      <th>Posts_Per_Day</th>\n",
       "      <th>Likes_Received_Per_Day</th>\n",
       "      <th>Comments_Received_Per_Day</th>\n",
       "      <th>Messages_Sent_Per_Day</th>\n",
       "      <th>Dominant_Emotion</th>\n",
       "    </tr>\n",
       "  </thead>\n",
       "  <tbody>\n",
       "    <tr>\n",
       "      <th>250</th>\n",
       "      <td>Male</td>\n",
       "      <td>27</td>\n",
       "      <td>Instagram</td>\n",
       "      <td>165.0</td>\n",
       "      <td>6.0</td>\n",
       "      <td>85.0</td>\n",
       "      <td>30.0</td>\n",
       "      <td>28.0</td>\n",
       "      <td>Happiness</td>\n",
       "    </tr>\n",
       "    <tr>\n",
       "      <th>251</th>\n",
       "      <td>Female</td>\n",
       "      <td>24</td>\n",
       "      <td>Twitter</td>\n",
       "      <td>75.0</td>\n",
       "      <td>3.0</td>\n",
       "      <td>33.0</td>\n",
       "      <td>18.0</td>\n",
       "      <td>19.0</td>\n",
       "      <td>Anger</td>\n",
       "    </tr>\n",
       "    <tr>\n",
       "      <th>252</th>\n",
       "      <td>Non-binary</td>\n",
       "      <td>29</td>\n",
       "      <td>Facebook</td>\n",
       "      <td>85.0</td>\n",
       "      <td>2.0</td>\n",
       "      <td>27.0</td>\n",
       "      <td>9.0</td>\n",
       "      <td>20.0</td>\n",
       "      <td>Neutral</td>\n",
       "    </tr>\n",
       "    <tr>\n",
       "      <th>253</th>\n",
       "      <td>Female</td>\n",
       "      <td>33</td>\n",
       "      <td>Instagram</td>\n",
       "      <td>145.0</td>\n",
       "      <td>4.0</td>\n",
       "      <td>65.0</td>\n",
       "      <td>23.0</td>\n",
       "      <td>35.0</td>\n",
       "      <td>Sadness</td>\n",
       "    </tr>\n",
       "    <tr>\n",
       "      <th>254</th>\n",
       "      <td>Male</td>\n",
       "      <td>31</td>\n",
       "      <td>LinkedIn</td>\n",
       "      <td>60.0</td>\n",
       "      <td>1.0</td>\n",
       "      <td>15.0</td>\n",
       "      <td>7.0</td>\n",
       "      <td>17.0</td>\n",
       "      <td>Anxiety</td>\n",
       "    </tr>\n",
       "    <tr>\n",
       "      <th>...</th>\n",
       "      <td>...</td>\n",
       "      <td>...</td>\n",
       "      <td>...</td>\n",
       "      <td>...</td>\n",
       "      <td>...</td>\n",
       "      <td>...</td>\n",
       "      <td>...</td>\n",
       "      <td>...</td>\n",
       "      <td>...</td>\n",
       "    </tr>\n",
       "    <tr>\n",
       "      <th>1179</th>\n",
       "      <td>Female</td>\n",
       "      <td>26</td>\n",
       "      <td>Instagram</td>\n",
       "      <td>90.0</td>\n",
       "      <td>3.0</td>\n",
       "      <td>39.0</td>\n",
       "      <td>10.0</td>\n",
       "      <td>21</td>\n",
       "      <td>Neutral</td>\n",
       "    </tr>\n",
       "    <tr>\n",
       "      <th>1180</th>\n",
       "      <td>Male</td>\n",
       "      <td>33</td>\n",
       "      <td>LinkedIn</td>\n",
       "      <td>30.0</td>\n",
       "      <td>1.0</td>\n",
       "      <td>10.0</td>\n",
       "      <td>9.0</td>\n",
       "      <td>14</td>\n",
       "      <td>Boredom</td>\n",
       "    </tr>\n",
       "    <tr>\n",
       "      <th>1181</th>\n",
       "      <td>Female</td>\n",
       "      <td>24</td>\n",
       "      <td>Twitter</td>\n",
       "      <td>85.0</td>\n",
       "      <td>6.0</td>\n",
       "      <td>42.0</td>\n",
       "      <td>15.0</td>\n",
       "      <td>21</td>\n",
       "      <td>Boredom</td>\n",
       "    </tr>\n",
       "    <tr>\n",
       "      <th>1195</th>\n",
       "      <td>Non-binary</td>\n",
       "      <td>Facebook</td>\n",
       "      <td>55</td>\n",
       "      <td>1.0</td>\n",
       "      <td>9.0</td>\n",
       "      <td>2.0</td>\n",
       "      <td>11.0</td>\n",
       "      <td>Anxiety</td>\n",
       "      <td>NaN</td>\n",
       "    </tr>\n",
       "    <tr>\n",
       "      <th>1204</th>\n",
       "      <td>Female</td>\n",
       "      <td>22</td>\n",
       "      <td>Whatsapp</td>\n",
       "      <td>70.0</td>\n",
       "      <td>2.0</td>\n",
       "      <td>42.0</td>\n",
       "      <td>10.0</td>\n",
       "      <td>21</td>\n",
       "      <td>Anxiety</td>\n",
       "    </tr>\n",
       "  </tbody>\n",
       "</table>\n",
       "<p>90 rows × 9 columns</p>\n",
       "</div>"
      ],
      "text/plain": [
       "             Age    Gender   Platform  Daily_Usage_Time (minutes)  \\\n",
       "250         Male        27  Instagram                       165.0   \n",
       "251       Female        24    Twitter                        75.0   \n",
       "252   Non-binary        29   Facebook                        85.0   \n",
       "253       Female        33  Instagram                       145.0   \n",
       "254         Male        31   LinkedIn                        60.0   \n",
       "...          ...       ...        ...                         ...   \n",
       "1179      Female        26  Instagram                        90.0   \n",
       "1180        Male        33   LinkedIn                        30.0   \n",
       "1181      Female        24    Twitter                        85.0   \n",
       "1195  Non-binary  Facebook         55                         1.0   \n",
       "1204      Female        22   Whatsapp                        70.0   \n",
       "\n",
       "      Posts_Per_Day  Likes_Received_Per_Day  Comments_Received_Per_Day  \\\n",
       "250             6.0                    85.0                       30.0   \n",
       "251             3.0                    33.0                       18.0   \n",
       "252             2.0                    27.0                        9.0   \n",
       "253             4.0                    65.0                       23.0   \n",
       "254             1.0                    15.0                        7.0   \n",
       "...             ...                     ...                        ...   \n",
       "1179            3.0                    39.0                       10.0   \n",
       "1180            1.0                    10.0                        9.0   \n",
       "1181            6.0                    42.0                       15.0   \n",
       "1195            9.0                     2.0                       11.0   \n",
       "1204            2.0                    42.0                       10.0   \n",
       "\n",
       "     Messages_Sent_Per_Day Dominant_Emotion  \n",
       "250                   28.0        Happiness  \n",
       "251                   19.0            Anger  \n",
       "252                   20.0          Neutral  \n",
       "253                   35.0          Sadness  \n",
       "254                   17.0          Anxiety  \n",
       "...                    ...              ...  \n",
       "1179                    21          Neutral  \n",
       "1180                    14          Boredom  \n",
       "1181                    21          Boredom  \n",
       "1195               Anxiety              NaN  \n",
       "1204                    21          Anxiety  \n",
       "\n",
       "[90 rows x 9 columns]"
      ]
     },
     "execution_count": 8,
     "metadata": {},
     "output_type": "execute_result"
    }
   ],
   "source": [
    "gender_age = data[(data['Age'] == 'Female') | (data['Age'] == 'Male') | (data['Age'] == 'Non-binary')]\n",
    "gender_age"
   ]
  },
  {
   "cell_type": "markdown",
   "id": "f2b0c7f1",
   "metadata": {},
   "source": [
    "And then swap the values in those 2 columns for all those indices:"
   ]
  },
  {
   "cell_type": "code",
   "execution_count": 9,
   "id": "f65f6862",
   "metadata": {},
   "outputs": [],
   "source": [
    "data.loc[gender_age.index, ['Age', 'Gender']] = data.loc[gender_age.index, ['Gender', 'Age']].values"
   ]
  },
  {
   "cell_type": "markdown",
   "id": "ec89f773",
   "metadata": {},
   "source": [
    "Now Gender only has 1 value inputted that shouldn't be there. Rather than swapping around a ton of data and messing with it too much, since its just one value the row can be removed to avoid overcomplicating the issue."
   ]
  },
  {
   "cell_type": "code",
   "execution_count": 10,
   "id": "184bed2b",
   "metadata": {},
   "outputs": [
    {
     "data": {
      "text/plain": [
       "Female        449\n",
       "Male          444\n",
       "Non-binary    354\n",
       "Marie           1\n",
       "Name: Gender, dtype: int64"
      ]
     },
     "execution_count": 10,
     "metadata": {},
     "output_type": "execute_result"
    }
   ],
   "source": [
    "data['Gender'].value_counts()"
   ]
  },
  {
   "cell_type": "code",
   "execution_count": 11,
   "id": "4423ffdd",
   "metadata": {
    "scrolled": true
   },
   "outputs": [
    {
     "data": {
      "text/plain": [
       "Female        449\n",
       "Male          444\n",
       "Non-binary    354\n",
       "Name: Gender, dtype: int64"
      ]
     },
     "execution_count": 11,
     "metadata": {},
     "output_type": "execute_result"
    }
   ],
   "source": [
    "data = data[data['Gender'] != 'Marie']\n",
    "data['Gender'].value_counts()"
   ]
  },
  {
   "cell_type": "markdown",
   "id": "b678aa14",
   "metadata": {},
   "source": [
    "The gender column looks ok now, but the age column needs some further error fixing:"
   ]
  },
  {
   "cell_type": "code",
   "execution_count": 12,
   "id": "0eed6217",
   "metadata": {},
   "outputs": [
    {
     "data": {
      "text/plain": [
       "28                                                      130\n",
       "27                                                      125\n",
       "29                                                      121\n",
       "22                                                       94\n",
       "24                                                       93\n",
       "26                                                       93\n",
       "31                                                       90\n",
       "25                                                       85\n",
       "21                                                       73\n",
       "33                                                       73\n",
       "23                                                       70\n",
       "30                                                       53\n",
       "34                                                       50\n",
       "35                                                       48\n",
       "32                                                       48\n",
       " işte mevcut veri kümesini 1000 satıra tamamlıyorum:      1\n",
       "Facebook                                                  1\n",
       "Name: Age, dtype: int64"
      ]
     },
     "execution_count": 12,
     "metadata": {},
     "output_type": "execute_result"
    }
   ],
   "source": [
    "data['Age'].value_counts()"
   ]
  },
  {
   "cell_type": "markdown",
   "id": "54cf0cb0",
   "metadata": {},
   "source": [
    "Age also has 2 inputs that should not be there, but this can be fixed by simply converting all the categories that should be numeric but aren't to numeric. By setting the to_numeric parameter 'errors' to 'coerce', this converts any non number to a NaN, which can later be removed."
   ]
  },
  {
   "cell_type": "code",
   "execution_count": 13,
   "id": "6ab3ab9c",
   "metadata": {
    "scrolled": true
   },
   "outputs": [
    {
     "data": {
      "text/plain": [
       "28.0    130\n",
       "27.0    125\n",
       "29.0    121\n",
       "22.0     94\n",
       "24.0     93\n",
       "26.0     93\n",
       "31.0     90\n",
       "25.0     85\n",
       "33.0     73\n",
       "21.0     73\n",
       "23.0     70\n",
       "30.0     53\n",
       "34.0     50\n",
       "35.0     48\n",
       "32.0     48\n",
       "Name: Age, dtype: int64"
      ]
     },
     "execution_count": 13,
     "metadata": {},
     "output_type": "execute_result"
    }
   ],
   "source": [
    "data['Age'] = pd.to_numeric(data['Age'], errors = 'coerce')\n",
    "data['Messages_Sent_Per_Day'] = pd.to_numeric(data['Messages_Sent_Per_Day'], errors = 'coerce')\n",
    "data['Age'].value_counts()"
   ]
  },
  {
   "cell_type": "code",
   "execution_count": 14,
   "id": "cbb4d75e",
   "metadata": {},
   "outputs": [
    {
     "data": {
      "text/plain": [
       "20.0    138\n",
       "18.0    124\n",
       "25.0    108\n",
       "12.0    105\n",
       "22.0     98\n",
       "30.0     94\n",
       "10.0     79\n",
       "28.0     71\n",
       "15.0     62\n",
       "35.0     39\n",
       "14.0     34\n",
       "38.0     32\n",
       "24.0     30\n",
       "11.0     27\n",
       "45.0     24\n",
       "26.0     24\n",
       "33.0     23\n",
       "27.0     20\n",
       "21.0     16\n",
       "17.0     15\n",
       "40.0     14\n",
       "29.0     13\n",
       "23.0     13\n",
       "31.0     12\n",
       "19.0     12\n",
       "50.0     11\n",
       "32.0      3\n",
       "9.0       1\n",
       "8.0       1\n",
       "13.0      1\n",
       "34.0      1\n",
       "39.0      1\n",
       "Name: Messages_Sent_Per_Day, dtype: int64"
      ]
     },
     "execution_count": 14,
     "metadata": {},
     "output_type": "execute_result"
    }
   ],
   "source": [
    "data['Messages_Sent_Per_Day'].value_counts()"
   ]
  },
  {
   "cell_type": "markdown",
   "id": "20dcac1f",
   "metadata": {},
   "source": [
    "Now that those categories are taken care of, the remaining non numeric categories can be looked at and simply remove any rows that shouldn't be there, if necessary."
   ]
  },
  {
   "cell_type": "code",
   "execution_count": 15,
   "id": "7272c246",
   "metadata": {},
   "outputs": [
    {
     "data": {
      "text/plain": [
       "Instagram    302\n",
       "Facebook     247\n",
       "Twitter      244\n",
       "LinkedIn     154\n",
       "Snapchat     112\n",
       "Telegram      98\n",
       "Whatsapp      89\n",
       "55             1\n",
       "Name: Platform, dtype: int64"
      ]
     },
     "execution_count": 15,
     "metadata": {},
     "output_type": "execute_result"
    }
   ],
   "source": [
    "data['Platform'].value_counts()"
   ]
  },
  {
   "cell_type": "code",
   "execution_count": 16,
   "id": "f5780fb4",
   "metadata": {},
   "outputs": [
    {
     "data": {
      "text/plain": [
       "Instagram    302\n",
       "Facebook     247\n",
       "Twitter      244\n",
       "LinkedIn     154\n",
       "Snapchat     112\n",
       "Telegram      98\n",
       "Whatsapp      89\n",
       "Name: Platform, dtype: int64"
      ]
     },
     "execution_count": 16,
     "metadata": {},
     "output_type": "execute_result"
    }
   ],
   "source": [
    "data = data[data['Platform'] != '55']\n",
    "data['Platform'].value_counts()"
   ]
  },
  {
   "cell_type": "code",
   "execution_count": 17,
   "id": "2f2416a8",
   "metadata": {
    "scrolled": false
   },
   "outputs": [
    {
     "data": {
      "text/plain": [
       "Neutral      257\n",
       "Happiness    241\n",
       "Anxiety      223\n",
       "Sadness      199\n",
       "Boredom      174\n",
       "Anger        151\n",
       "Agression      1\n",
       "Name: Dominant_Emotion, dtype: int64"
      ]
     },
     "execution_count": 17,
     "metadata": {},
     "output_type": "execute_result"
    }
   ],
   "source": [
    "data['Dominant_Emotion'].value_counts()"
   ]
  },
  {
   "cell_type": "markdown",
   "id": "f8e24507",
   "metadata": {},
   "source": [
    "A minor mistake here is that aggression is spelled incorrectly, which can be corrected by renaming the entry."
   ]
  },
  {
   "cell_type": "code",
   "execution_count": 18,
   "id": "7a7fd94d",
   "metadata": {
    "scrolled": true
   },
   "outputs": [
    {
     "data": {
      "text/plain": [
       "Neutral       257\n",
       "Happiness     241\n",
       "Anxiety       223\n",
       "Sadness       199\n",
       "Boredom       174\n",
       "Anger         151\n",
       "Aggression      1\n",
       "Name: Dominant_Emotion, dtype: int64"
      ]
     },
     "execution_count": 18,
     "metadata": {},
     "output_type": "execute_result"
    }
   ],
   "source": [
    "data['Dominant_Emotion'] = data['Dominant_Emotion'].replace('Agression', 'Aggression')\n",
    "data['Dominant_Emotion'].value_counts()"
   ]
  },
  {
   "cell_type": "markdown",
   "id": "35663ac5",
   "metadata": {},
   "source": [
    "The \"Daily_Usage_Time (minutes)\" column can also be renames to take out the \"(minutes)\" to make it easier to use."
   ]
  },
  {
   "cell_type": "code",
   "execution_count": 19,
   "id": "4400f0b2",
   "metadata": {},
   "outputs": [],
   "source": [
    "data = data.rename(columns = {'Daily_Usage_Time (minutes)': 'Daily_Usage_Time'})"
   ]
  },
  {
   "cell_type": "code",
   "execution_count": 20,
   "id": "1b78c84a",
   "metadata": {
    "scrolled": false
   },
   "outputs": [
    {
     "data": {
      "image/png": "[encoded data removed]",
      "text/plain": [
       "<Figure size 432x288 with 1 Axes>"
      ]
     },
     "metadata": {
      "needs_background": "light"
     },
     "output_type": "display_data"
    }
   ],
   "source": [
    "counts = data['Dominant_Emotion'].value_counts()\n",
    "ax = counts.plot(kind = 'bar', color = 'orange', edgecolor = 'black', \n",
    "                                            title = 'Distribution of Dominant Emotion Responses', \n",
    "                                            xlabel = 'Emotions', ylabel = 'Count')\n",
    "\n",
    "for i, value in enumerate(counts):\n",
    "    ax.text(i, value, str(value), ha = 'center', va = 'bottom')"
   ]
  },
  {
   "cell_type": "markdown",
   "id": "c73a0f02",
   "metadata": {},
   "source": [
    "This quick plot shows that the distribution of emotions shows a bit of class imbalance, which should be kept in mind when selecting a model. As for the aggression response, this only had one entry so to avoid even more class imbalance, this entry can be removed from the dataset."
   ]
  },
  {
   "cell_type": "code",
   "execution_count": 21,
   "id": "9f552df3",
   "metadata": {},
   "outputs": [],
   "source": [
    "data = data[data['Dominant_Emotion'] != 'Aggression']"
   ]
  },
  {
   "cell_type": "markdown",
   "id": "c14654b3",
   "metadata": {},
   "source": [
    "Now **Age** and **Messages_Sent_Per_Day** can be changed to float64 since they are all integers."
   ]
  },
  {
   "cell_type": "code",
   "execution_count": 22,
   "id": "7cb3c10d",
   "metadata": {},
   "outputs": [],
   "source": [
    "data['Age'] = data['Age'].astype('float64')\n",
    "data['Messages_Sent_Per_Day'] = data['Messages_Sent_Per_Day'].astype('float64')"
   ]
  },
  {
   "cell_type": "code",
   "execution_count": 23,
   "id": "0037d5d3",
   "metadata": {},
   "outputs": [
    {
     "data": {
      "text/plain": [
       "Age                          1\n",
       "Gender                       1\n",
       "Platform                     1\n",
       "Daily_Usage_Time             1\n",
       "Posts_Per_Day                1\n",
       "Likes_Received_Per_Day       1\n",
       "Comments_Received_Per_Day    1\n",
       "Messages_Sent_Per_Day        1\n",
       "Dominant_Emotion             1\n",
       "dtype: int64"
      ]
     },
     "execution_count": 23,
     "metadata": {},
     "output_type": "execute_result"
    }
   ],
   "source": [
    "data.isna().sum()"
   ]
  },
  {
   "cell_type": "markdown",
   "id": "ae9e9a86",
   "metadata": {},
   "source": [
    "And remove the NaN entries"
   ]
  },
  {
   "cell_type": "code",
   "execution_count": 24,
   "id": "626f7bbc",
   "metadata": {
    "scrolled": false
   },
   "outputs": [
    {
     "data": {
      "text/plain": [
       "Age                          0\n",
       "Gender                       0\n",
       "Platform                     0\n",
       "Daily_Usage_Time             0\n",
       "Posts_Per_Day                0\n",
       "Likes_Received_Per_Day       0\n",
       "Comments_Received_Per_Day    0\n",
       "Messages_Sent_Per_Day        0\n",
       "Dominant_Emotion             0\n",
       "dtype: int64"
      ]
     },
     "execution_count": 24,
     "metadata": {},
     "output_type": "execute_result"
    }
   ],
   "source": [
    "data = data.dropna()\n",
    "data.isna().sum()"
   ]
  },
  {
   "cell_type": "code",
   "execution_count": 25,
   "id": "f57acf6b",
   "metadata": {
    "scrolled": true
   },
   "outputs": [
    {
     "name": "stdout",
     "output_type": "stream",
     "text": [
      "<class 'pandas.core.frame.DataFrame'>\n",
      "Int64Index: 1245 entries, 0 to 1248\n",
      "Data columns (total 9 columns):\n",
      " #   Column                     Non-Null Count  Dtype  \n",
      "---  ------                     --------------  -----  \n",
      " 0   Age                        1245 non-null   float64\n",
      " 1   Gender                     1245 non-null   object \n",
      " 2   Platform                   1245 non-null   object \n",
      " 3   Daily_Usage_Time           1245 non-null   float64\n",
      " 4   Posts_Per_Day              1245 non-null   float64\n",
      " 5   Likes_Received_Per_Day     1245 non-null   float64\n",
      " 6   Comments_Received_Per_Day  1245 non-null   float64\n",
      " 7   Messages_Sent_Per_Day      1245 non-null   float64\n",
      " 8   Dominant_Emotion           1245 non-null   object \n",
      "dtypes: float64(6), object(3)\n",
      "memory usage: 97.3+ KB\n"
     ]
    }
   ],
   "source": [
    "data.info()"
   ]
  },
  {
   "cell_type": "markdown",
   "id": "89f638e7",
   "metadata": {},
   "source": [
    "We the data is cleaned and corrected, with NaN's removed, any swapped data either swapped back or removed, and all categories are set to the correct data type. Up next is taking a look at which features are most significant, if there's any interaction between features, and visualizing these possible interactions.\n",
    "___"
   ]
  },
  {
   "cell_type": "markdown",
   "id": "f32182d7",
   "metadata": {},
   "source": [
    "## Feature Engineering\n",
    "Feature engineering involves looking at any interactions between features, modifying, removing, or adding features as needed to reduce any bias, and getting an idea of the best predictors of our response. This section is also modified *iteratively*, using feedback from the models formed later in the script to guide decisions made with feature engineering."
   ]
  },
  {
   "cell_type": "markdown",
   "id": "daa72c53",
   "metadata": {},
   "source": [
    " To get an idea of the relationship between predictors, a pair plot can give good insight into this."
   ]
  },
  {
   "cell_type": "code",
   "execution_count": 26,
   "id": "91f84810",
   "metadata": {},
   "outputs": [
    {
     "data": {
      "text/plain": [
       "<seaborn.axisgrid.PairGrid at 0x7fe1a8407610>"
      ]
     },
     "execution_count": 26,
     "metadata": {},
     "output_type": "execute_result"
    },
    {
     "data": {
      "image/png": "[encoded data removed]",
      "text/plain": [
       "<Figure size 1080x1080 with 42 Axes>"
      ]
     },
     "metadata": {
      "needs_background": "light"
     },
     "output_type": "display_data"
    }
   ],
   "source": [
    "sns.pairplot(data, diag_kind = 'kde')"
   ]
  },
  {
   "cell_type": "markdown",
   "id": "34efc0c9",
   "metadata": {},
   "source": [
    "A few things to note from this pair plot: \n",
    "- Age does not seem to be related to any of the other numeric features.\n",
    "- Daily_Usage_Time, Posts_Per_Day, Likes_Received_Per_Day, and Comments_Received_Per_Day all seem to be linearly positively related. This indicates that there may be some interaction between these features.\n",
    "\n",
    "This only gives a look into our numeric variables however. So one way to deal with this is to turn the categorical variables numerical if possible. \n",
    "\n",
    "There are 2 features that fall into the category of **non-ordinal categorical variables**: gender and platform. This is because they are categories that don't have a meaninful order. One solution is to convert these categories into binary variables. First, new binary columns must be created for each option for these categories, which can be done with the pandas function get_dummies."
   ]
  },
  {
   "cell_type": "code",
   "execution_count": 27,
   "id": "fc861109",
   "metadata": {
    "scrolled": true
   },
   "outputs": [
    {
     "name": "stdout",
     "output_type": "stream",
     "text": [
      "<class 'pandas.core.frame.DataFrame'>\n",
      "Int64Index: 1245 entries, 0 to 1248\n",
      "Data columns (total 11 columns):\n",
      " #   Column                     Non-Null Count  Dtype  \n",
      "---  ------                     --------------  -----  \n",
      " 0   Age                        1245 non-null   float64\n",
      " 1   Platform                   1245 non-null   object \n",
      " 2   Daily_Usage_Time           1245 non-null   float64\n",
      " 3   Posts_Per_Day              1245 non-null   float64\n",
      " 4   Likes_Received_Per_Day     1245 non-null   float64\n",
      " 5   Comments_Received_Per_Day  1245 non-null   float64\n",
      " 6   Messages_Sent_Per_Day      1245 non-null   float64\n",
      " 7   Dominant_Emotion           1245 non-null   object \n",
      " 8   Gender_Female              1245 non-null   uint8  \n",
      " 9   Gender_Male                1245 non-null   uint8  \n",
      " 10  Gender_Non-binary          1245 non-null   uint8  \n",
      "dtypes: float64(6), object(2), uint8(3)\n",
      "memory usage: 91.2+ KB\n"
     ]
    }
   ],
   "source": [
    "data = pd.get_dummies(data, columns = ['Gender'])\n",
    "data.info()"
   ]
  },
  {
   "cell_type": "markdown",
   "id": "b4d537c1",
   "metadata": {},
   "source": [
    "Due to an issue that comes up later in this script, where statsmodels variable names cannot contain special characters, Gender_Non-binary can be renamed here:"
   ]
  },
  {
   "cell_type": "code",
   "execution_count": 28,
   "id": "14b80b97",
   "metadata": {},
   "outputs": [],
   "source": [
    "data = data.rename(columns = {'Gender_Non-binary': 'Gender_Non_binary'})"
   ]
  },
  {
   "cell_type": "code",
   "execution_count": 29,
   "id": "87f44a79",
   "metadata": {},
   "outputs": [
    {
     "name": "stdout",
     "output_type": "stream",
     "text": [
      "<class 'pandas.core.frame.DataFrame'>\n",
      "Int64Index: 1245 entries, 0 to 1248\n",
      "Data columns (total 17 columns):\n",
      " #   Column                     Non-Null Count  Dtype  \n",
      "---  ------                     --------------  -----  \n",
      " 0   Age                        1245 non-null   float64\n",
      " 1   Daily_Usage_Time           1245 non-null   float64\n",
      " 2   Posts_Per_Day              1245 non-null   float64\n",
      " 3   Likes_Received_Per_Day     1245 non-null   float64\n",
      " 4   Comments_Received_Per_Day  1245 non-null   float64\n",
      " 5   Messages_Sent_Per_Day      1245 non-null   float64\n",
      " 6   Dominant_Emotion           1245 non-null   object \n",
      " 7   Gender_Female              1245 non-null   uint8  \n",
      " 8   Gender_Male                1245 non-null   uint8  \n",
      " 9   Gender_Non_binary          1245 non-null   uint8  \n",
      " 10  Platform_Facebook          1245 non-null   uint8  \n",
      " 11  Platform_Instagram         1245 non-null   uint8  \n",
      " 12  Platform_LinkedIn          1245 non-null   uint8  \n",
      " 13  Platform_Snapchat          1245 non-null   uint8  \n",
      " 14  Platform_Telegram          1245 non-null   uint8  \n",
      " 15  Platform_Twitter           1245 non-null   uint8  \n",
      " 16  Platform_Whatsapp          1245 non-null   uint8  \n",
      "dtypes: float64(6), object(1), uint8(10)\n",
      "memory usage: 90.0+ KB\n"
     ]
    }
   ],
   "source": [
    "data = pd.get_dummies(data, columns = ['Platform'])\n",
    "data.info()"
   ]
  },
  {
   "cell_type": "markdown",
   "id": "ebbb243e",
   "metadata": {},
   "source": [
    "One of the simplest first models to try is linear regression. For this, all the categories need to be numerical, including the response. One way to approach the Dominant_Emotion variable, is to use label encoding and group the emotions into 3 categories - Negative, Neutral, and Positive. This is because the variable is **ordinal categorical**, since the categories have meaningful order - or at least they can when we group them together into these 3 categories.\n",
    "\n",
    "The positive category will be encoded as 1, with the data points marked as 'Happiness' included.\n",
    "The neutral category will be encoded as 0, with 'Neutral' included.\n",
    "And the negative category will be encoded as -1, with 'Anxiety', 'Sadness', 'Boredom', 'Anger', and 'Aggression' grouped into it.\n",
    "\n",
    "There are many ways to approach grouping this data, but for efficiency and simplicity, these 3 groups are a starting point."
   ]
  },
  {
   "cell_type": "code",
   "execution_count": 30,
   "id": "85567410",
   "metadata": {},
   "outputs": [
    {
     "data": {
      "text/plain": [
       "Neutral      257\n",
       "Happiness    241\n",
       "Anxiety      223\n",
       "Sadness      199\n",
       "Boredom      174\n",
       "Anger        151\n",
       "Name: Dominant_Emotion, dtype: int64"
      ]
     },
     "execution_count": 30,
     "metadata": {},
     "output_type": "execute_result"
    }
   ],
   "source": [
    "data['Dominant_Emotion'].value_counts()"
   ]
  },
  {
   "cell_type": "markdown",
   "id": "32499624",
   "metadata": {},
   "source": [
    "Since other models used later in the project can use non numeric categories, the mapping for this is going to be done on a copy of the data. This binary dataframe will include encoded emotion, that can be used to make a linear regression model. The original data can then be used for other models that are more tuned for classification."
   ]
  },
  {
   "cell_type": "code",
   "execution_count": 31,
   "id": "b46be8a0",
   "metadata": {},
   "outputs": [],
   "source": [
    "data_bin = data.copy()"
   ]
  },
  {
   "cell_type": "code",
   "execution_count": 32,
   "id": "a66f77ef",
   "metadata": {
    "scrolled": false
   },
   "outputs": [
    {
     "name": "stdout",
     "output_type": "stream",
     "text": [
      "<class 'pandas.core.frame.DataFrame'>\n",
      "Int64Index: 1245 entries, 0 to 1248\n",
      "Data columns (total 17 columns):\n",
      " #   Column                     Non-Null Count  Dtype  \n",
      "---  ------                     --------------  -----  \n",
      " 0   Age                        1245 non-null   float64\n",
      " 1   Daily_Usage_Time           1245 non-null   float64\n",
      " 2   Posts_Per_Day              1245 non-null   float64\n",
      " 3   Likes_Received_Per_Day     1245 non-null   float64\n",
      " 4   Comments_Received_Per_Day  1245 non-null   float64\n",
      " 5   Messages_Sent_Per_Day      1245 non-null   float64\n",
      " 6   Gender_Female              1245 non-null   uint8  \n",
      " 7   Gender_Male                1245 non-null   uint8  \n",
      " 8   Gender_Non_binary          1245 non-null   uint8  \n",
      " 9   Platform_Facebook          1245 non-null   uint8  \n",
      " 10  Platform_Instagram         1245 non-null   uint8  \n",
      " 11  Platform_LinkedIn          1245 non-null   uint8  \n",
      " 12  Platform_Snapchat          1245 non-null   uint8  \n",
      " 13  Platform_Telegram          1245 non-null   uint8  \n",
      " 14  Platform_Twitter           1245 non-null   uint8  \n",
      " 15  Platform_Whatsapp          1245 non-null   uint8  \n",
      " 16  Encoded_Emotion            1245 non-null   int64  \n",
      "dtypes: float64(6), int64(1), uint8(10)\n",
      "memory usage: 90.0 KB\n"
     ]
    }
   ],
   "source": [
    "emotion_mapping = {\n",
    "    'Neutral': 0,   \n",
    "    'Happiness': 1,    \n",
    "    'Anxiety': -1,     \n",
    "    'Sadness': -1, \n",
    "    'Boredom': -1,  \n",
    "    'Anger': -1,  \n",
    "    'Aggression': -1\n",
    "}\n",
    "\n",
    "data_bin['Encoded_Emotion'] = data_bin['Dominant_Emotion'].map(emotion_mapping)\n",
    "data_bin = data_bin.drop(columns = ['Dominant_Emotion'])\n",
    "data_bin.info()"
   ]
  },
  {
   "cell_type": "markdown",
   "id": "2d51e022",
   "metadata": {},
   "source": [
    "Now that all the data is numeric, a correlation matrix can help show relationships between predictors"
   ]
  },
  {
   "cell_type": "code",
   "execution_count": 33,
   "id": "d755e8b3",
   "metadata": {
    "scrolled": false
   },
   "outputs": [
    {
     "data": {
      "text/html": [
       "<div>\n",
       "<style scoped>\n",
       "    .dataframe tbody tr th:only-of-type {\n",
       "        vertical-align: middle;\n",
       "    }\n",
       "\n",
       "    .dataframe tbody tr th {\n",
       "        vertical-align: top;\n",
       "    }\n",
       "\n",
       "    .dataframe thead th {\n",
       "        text-align: right;\n",
       "    }\n",
       "</style>\n",
       "<table border=\"1\" class=\"dataframe\">\n",
       "  <thead>\n",
       "    <tr style=\"text-align: right;\">\n",
       "      <th></th>\n",
       "      <th>Age</th>\n",
       "      <th>Daily_Usage_Time</th>\n",
       "      <th>Posts_Per_Day</th>\n",
       "      <th>Likes_Received_Per_Day</th>\n",
       "      <th>Comments_Received_Per_Day</th>\n",
       "      <th>Messages_Sent_Per_Day</th>\n",
       "      <th>Gender_Female</th>\n",
       "      <th>Gender_Male</th>\n",
       "      <th>Gender_Non_binary</th>\n",
       "      <th>Platform_Facebook</th>\n",
       "      <th>Platform_Instagram</th>\n",
       "      <th>Platform_LinkedIn</th>\n",
       "      <th>Platform_Snapchat</th>\n",
       "      <th>Platform_Telegram</th>\n",
       "      <th>Platform_Twitter</th>\n",
       "      <th>Platform_Whatsapp</th>\n",
       "      <th>Encoded_Emotion</th>\n",
       "    </tr>\n",
       "  </thead>\n",
       "  <tbody>\n",
       "    <tr>\n",
       "      <th>Age</th>\n",
       "      <td>1.000000</td>\n",
       "      <td>0.093221</td>\n",
       "      <td>0.032007</td>\n",
       "      <td>0.068068</td>\n",
       "      <td>0.099465</td>\n",
       "      <td>0.104882</td>\n",
       "      <td>-0.038697</td>\n",
       "      <td>0.217168</td>\n",
       "      <td>-0.189592</td>\n",
       "      <td>-0.173497</td>\n",
       "      <td>0.103676</td>\n",
       "      <td>0.196076</td>\n",
       "      <td>-0.115643</td>\n",
       "      <td>0.057043</td>\n",
       "      <td>-0.088574</td>\n",
       "      <td>0.050971</td>\n",
       "      <td>-0.081473</td>\n",
       "    </tr>\n",
       "    <tr>\n",
       "      <th>Daily_Usage_Time</th>\n",
       "      <td>0.093221</td>\n",
       "      <td>1.000000</td>\n",
       "      <td>0.871729</td>\n",
       "      <td>0.932801</td>\n",
       "      <td>0.882833</td>\n",
       "      <td>0.896025</td>\n",
       "      <td>0.331066</td>\n",
       "      <td>-0.052422</td>\n",
       "      <td>-0.296831</td>\n",
       "      <td>-0.299914</td>\n",
       "      <td>0.831822</td>\n",
       "      <td>-0.371440</td>\n",
       "      <td>-0.026588</td>\n",
       "      <td>-0.133361</td>\n",
       "      <td>-0.143169</td>\n",
       "      <td>-0.053961</td>\n",
       "      <td>0.565848</td>\n",
       "    </tr>\n",
       "    <tr>\n",
       "      <th>Posts_Per_Day</th>\n",
       "      <td>0.032007</td>\n",
       "      <td>0.871729</td>\n",
       "      <td>1.000000</td>\n",
       "      <td>0.903585</td>\n",
       "      <td>0.897549</td>\n",
       "      <td>0.854427</td>\n",
       "      <td>0.302008</td>\n",
       "      <td>-0.011457</td>\n",
       "      <td>-0.309425</td>\n",
       "      <td>-0.342113</td>\n",
       "      <td>0.736625</td>\n",
       "      <td>-0.386134</td>\n",
       "      <td>-0.093407</td>\n",
       "      <td>-0.084904</td>\n",
       "      <td>0.019666</td>\n",
       "      <td>-0.038994</td>\n",
       "      <td>0.495523</td>\n",
       "    </tr>\n",
       "    <tr>\n",
       "      <th>Likes_Received_Per_Day</th>\n",
       "      <td>0.068068</td>\n",
       "      <td>0.932801</td>\n",
       "      <td>0.903585</td>\n",
       "      <td>1.000000</td>\n",
       "      <td>0.926594</td>\n",
       "      <td>0.903246</td>\n",
       "      <td>0.344662</td>\n",
       "      <td>-0.008286</td>\n",
       "      <td>-0.358216</td>\n",
       "      <td>-0.368165</td>\n",
       "      <td>0.846653</td>\n",
       "      <td>-0.373942</td>\n",
       "      <td>-0.097848</td>\n",
       "      <td>-0.103674</td>\n",
       "      <td>-0.075893</td>\n",
       "      <td>-0.025313</td>\n",
       "      <td>0.551634</td>\n",
       "    </tr>\n",
       "    <tr>\n",
       "      <th>Comments_Received_Per_Day</th>\n",
       "      <td>0.099465</td>\n",
       "      <td>0.882833</td>\n",
       "      <td>0.897549</td>\n",
       "      <td>0.926594</td>\n",
       "      <td>1.000000</td>\n",
       "      <td>0.876754</td>\n",
       "      <td>0.294085</td>\n",
       "      <td>0.042962</td>\n",
       "      <td>-0.358822</td>\n",
       "      <td>-0.376501</td>\n",
       "      <td>0.713866</td>\n",
       "      <td>-0.417467</td>\n",
       "      <td>-0.072459</td>\n",
       "      <td>-0.082730</td>\n",
       "      <td>0.066871</td>\n",
       "      <td>-0.006171</td>\n",
       "      <td>0.487516</td>\n",
       "    </tr>\n",
       "    <tr>\n",
       "      <th>Messages_Sent_Per_Day</th>\n",
       "      <td>0.104882</td>\n",
       "      <td>0.896025</td>\n",
       "      <td>0.854427</td>\n",
       "      <td>0.903246</td>\n",
       "      <td>0.876754</td>\n",
       "      <td>1.000000</td>\n",
       "      <td>0.272684</td>\n",
       "      <td>0.025724</td>\n",
       "      <td>-0.317712</td>\n",
       "      <td>-0.329690</td>\n",
       "      <td>0.725818</td>\n",
       "      <td>-0.422276</td>\n",
       "      <td>-0.012314</td>\n",
       "      <td>-0.024915</td>\n",
       "      <td>-0.071686</td>\n",
       "      <td>-0.006088</td>\n",
       "      <td>0.449682</td>\n",
       "    </tr>\n",
       "    <tr>\n",
       "      <th>Gender_Female</th>\n",
       "      <td>-0.038697</td>\n",
       "      <td>0.331066</td>\n",
       "      <td>0.302008</td>\n",
       "      <td>0.344662</td>\n",
       "      <td>0.294085</td>\n",
       "      <td>0.272684</td>\n",
       "      <td>1.000000</td>\n",
       "      <td>-0.558194</td>\n",
       "      <td>-0.471644</td>\n",
       "      <td>-0.310039</td>\n",
       "      <td>0.319295</td>\n",
       "      <td>-0.042776</td>\n",
       "      <td>0.015780</td>\n",
       "      <td>-0.219150</td>\n",
       "      <td>-0.003376</td>\n",
       "      <td>0.220688</td>\n",
       "      <td>0.158501</td>\n",
       "    </tr>\n",
       "    <tr>\n",
       "      <th>Gender_Male</th>\n",
       "      <td>0.217168</td>\n",
       "      <td>-0.052422</td>\n",
       "      <td>-0.011457</td>\n",
       "      <td>-0.008286</td>\n",
       "      <td>0.042962</td>\n",
       "      <td>0.025724</td>\n",
       "      <td>-0.558194</td>\n",
       "      <td>1.000000</td>\n",
       "      <td>-0.468360</td>\n",
       "      <td>-0.139124</td>\n",
       "      <td>-0.052263</td>\n",
       "      <td>0.051337</td>\n",
       "      <td>-0.234083</td>\n",
       "      <td>0.249388</td>\n",
       "      <td>0.194244</td>\n",
       "      <td>-0.063392</td>\n",
       "      <td>-0.085770</td>\n",
       "    </tr>\n",
       "    <tr>\n",
       "      <th>Gender_Non_binary</th>\n",
       "      <td>-0.189592</td>\n",
       "      <td>-0.296831</td>\n",
       "      <td>-0.309425</td>\n",
       "      <td>-0.358216</td>\n",
       "      <td>-0.358822</td>\n",
       "      <td>-0.317712</td>\n",
       "      <td>-0.471644</td>\n",
       "      <td>-0.468360</td>\n",
       "      <td>1.000000</td>\n",
       "      <td>0.478009</td>\n",
       "      <td>-0.284465</td>\n",
       "      <td>-0.009008</td>\n",
       "      <td>0.231971</td>\n",
       "      <td>-0.031674</td>\n",
       "      <td>-0.202841</td>\n",
       "      <td>-0.167633</td>\n",
       "      <td>-0.077631</td>\n",
       "    </tr>\n",
       "    <tr>\n",
       "      <th>Platform_Facebook</th>\n",
       "      <td>-0.173497</td>\n",
       "      <td>-0.299914</td>\n",
       "      <td>-0.342113</td>\n",
       "      <td>-0.368165</td>\n",
       "      <td>-0.376501</td>\n",
       "      <td>-0.329690</td>\n",
       "      <td>-0.310039</td>\n",
       "      <td>-0.139124</td>\n",
       "      <td>0.478009</td>\n",
       "      <td>1.000000</td>\n",
       "      <td>-0.280919</td>\n",
       "      <td>-0.186909</td>\n",
       "      <td>-0.156415</td>\n",
       "      <td>-0.145417</td>\n",
       "      <td>-0.245619</td>\n",
       "      <td>-0.138038</td>\n",
       "      <td>-0.138760</td>\n",
       "    </tr>\n",
       "    <tr>\n",
       "      <th>Platform_Instagram</th>\n",
       "      <td>0.103676</td>\n",
       "      <td>0.831822</td>\n",
       "      <td>0.736625</td>\n",
       "      <td>0.846653</td>\n",
       "      <td>0.713866</td>\n",
       "      <td>0.725818</td>\n",
       "      <td>0.319295</td>\n",
       "      <td>-0.052263</td>\n",
       "      <td>-0.284465</td>\n",
       "      <td>-0.280919</td>\n",
       "      <td>1.000000</td>\n",
       "      <td>-0.212151</td>\n",
       "      <td>-0.177538</td>\n",
       "      <td>-0.165055</td>\n",
       "      <td>-0.278789</td>\n",
       "      <td>-0.156680</td>\n",
       "      <td>0.604260</td>\n",
       "    </tr>\n",
       "    <tr>\n",
       "      <th>Platform_LinkedIn</th>\n",
       "      <td>0.196076</td>\n",
       "      <td>-0.371440</td>\n",
       "      <td>-0.386134</td>\n",
       "      <td>-0.373942</td>\n",
       "      <td>-0.417467</td>\n",
       "      <td>-0.422276</td>\n",
       "      <td>-0.042776</td>\n",
       "      <td>0.051337</td>\n",
       "      <td>-0.009008</td>\n",
       "      <td>-0.186909</td>\n",
       "      <td>-0.212151</td>\n",
       "      <td>1.000000</td>\n",
       "      <td>-0.118125</td>\n",
       "      <td>-0.109819</td>\n",
       "      <td>-0.185492</td>\n",
       "      <td>-0.104247</td>\n",
       "      <td>-0.185919</td>\n",
       "    </tr>\n",
       "    <tr>\n",
       "      <th>Platform_Snapchat</th>\n",
       "      <td>-0.115643</td>\n",
       "      <td>-0.026588</td>\n",
       "      <td>-0.093407</td>\n",
       "      <td>-0.097848</td>\n",
       "      <td>-0.072459</td>\n",
       "      <td>-0.012314</td>\n",
       "      <td>0.015780</td>\n",
       "      <td>-0.234083</td>\n",
       "      <td>0.231971</td>\n",
       "      <td>-0.156415</td>\n",
       "      <td>-0.177538</td>\n",
       "      <td>-0.118125</td>\n",
       "      <td>1.000000</td>\n",
       "      <td>-0.091902</td>\n",
       "      <td>-0.155229</td>\n",
       "      <td>-0.087239</td>\n",
       "      <td>-0.044196</td>\n",
       "    </tr>\n",
       "    <tr>\n",
       "      <th>Platform_Telegram</th>\n",
       "      <td>0.057043</td>\n",
       "      <td>-0.133361</td>\n",
       "      <td>-0.084904</td>\n",
       "      <td>-0.103674</td>\n",
       "      <td>-0.082730</td>\n",
       "      <td>-0.024915</td>\n",
       "      <td>-0.219150</td>\n",
       "      <td>0.249388</td>\n",
       "      <td>-0.031674</td>\n",
       "      <td>-0.145417</td>\n",
       "      <td>-0.165055</td>\n",
       "      <td>-0.109819</td>\n",
       "      <td>-0.091902</td>\n",
       "      <td>1.000000</td>\n",
       "      <td>-0.144314</td>\n",
       "      <td>-0.081105</td>\n",
       "      <td>-0.079656</td>\n",
       "    </tr>\n",
       "    <tr>\n",
       "      <th>Platform_Twitter</th>\n",
       "      <td>-0.088574</td>\n",
       "      <td>-0.143169</td>\n",
       "      <td>0.019666</td>\n",
       "      <td>-0.075893</td>\n",
       "      <td>0.066871</td>\n",
       "      <td>-0.071686</td>\n",
       "      <td>-0.003376</td>\n",
       "      <td>0.194244</td>\n",
       "      <td>-0.202841</td>\n",
       "      <td>-0.245619</td>\n",
       "      <td>-0.278789</td>\n",
       "      <td>-0.185492</td>\n",
       "      <td>-0.155229</td>\n",
       "      <td>-0.144314</td>\n",
       "      <td>1.000000</td>\n",
       "      <td>-0.136992</td>\n",
       "      <td>-0.239510</td>\n",
       "    </tr>\n",
       "    <tr>\n",
       "      <th>Platform_Whatsapp</th>\n",
       "      <td>0.050971</td>\n",
       "      <td>-0.053961</td>\n",
       "      <td>-0.038994</td>\n",
       "      <td>-0.025313</td>\n",
       "      <td>-0.006171</td>\n",
       "      <td>-0.006088</td>\n",
       "      <td>0.220688</td>\n",
       "      <td>-0.063392</td>\n",
       "      <td>-0.167633</td>\n",
       "      <td>-0.138038</td>\n",
       "      <td>-0.156680</td>\n",
       "      <td>-0.104247</td>\n",
       "      <td>-0.087239</td>\n",
       "      <td>-0.081105</td>\n",
       "      <td>-0.136992</td>\n",
       "      <td>1.000000</td>\n",
       "      <td>-0.050451</td>\n",
       "    </tr>\n",
       "    <tr>\n",
       "      <th>Encoded_Emotion</th>\n",
       "      <td>-0.081473</td>\n",
       "      <td>0.565848</td>\n",
       "      <td>0.495523</td>\n",
       "      <td>0.551634</td>\n",
       "      <td>0.487516</td>\n",
       "      <td>0.449682</td>\n",
       "      <td>0.158501</td>\n",
       "      <td>-0.085770</td>\n",
       "      <td>-0.077631</td>\n",
       "      <td>-0.138760</td>\n",
       "      <td>0.604260</td>\n",
       "      <td>-0.185919</td>\n",
       "      <td>-0.044196</td>\n",
       "      <td>-0.079656</td>\n",
       "      <td>-0.239510</td>\n",
       "      <td>-0.050451</td>\n",
       "      <td>1.000000</td>\n",
       "    </tr>\n",
       "  </tbody>\n",
       "</table>\n",
       "</div>"
      ],
      "text/plain": [
       "                                Age  Daily_Usage_Time  Posts_Per_Day  \\\n",
       "Age                        1.000000          0.093221       0.032007   \n",
       "Daily_Usage_Time           0.093221          1.000000       0.871729   \n",
       "Posts_Per_Day              0.032007          0.871729       1.000000   \n",
       "Likes_Received_Per_Day     0.068068          0.932801       0.903585   \n",
       "Comments_Received_Per_Day  0.099465          0.882833       0.897549   \n",
       "Messages_Sent_Per_Day      0.104882          0.896025       0.854427   \n",
       "Gender_Female             -0.038697          0.331066       0.302008   \n",
       "Gender_Male                0.217168         -0.052422      -0.011457   \n",
       "Gender_Non_binary         -0.189592         -0.296831      -0.309425   \n",
       "Platform_Facebook         -0.173497         -0.299914      -0.342113   \n",
       "Platform_Instagram         0.103676          0.831822       0.736625   \n",
       "Platform_LinkedIn          0.196076         -0.371440      -0.386134   \n",
       "Platform_Snapchat         -0.115643         -0.026588      -0.093407   \n",
       "Platform_Telegram          0.057043         -0.133361      -0.084904   \n",
       "Platform_Twitter          -0.088574         -0.143169       0.019666   \n",
       "Platform_Whatsapp          0.050971         -0.053961      -0.038994   \n",
       "Encoded_Emotion           -0.081473          0.565848       0.495523   \n",
       "\n",
       "                           Likes_Received_Per_Day  Comments_Received_Per_Day  \\\n",
       "Age                                      0.068068                   0.099465   \n",
       "Daily_Usage_Time                         0.932801                   0.882833   \n",
       "Posts_Per_Day                            0.903585                   0.897549   \n",
       "Likes_Received_Per_Day                   1.000000                   0.926594   \n",
       "Comments_Received_Per_Day                0.926594                   1.000000   \n",
       "Messages_Sent_Per_Day                    0.903246                   0.876754   \n",
       "Gender_Female                            0.344662                   0.294085   \n",
       "Gender_Male                             -0.008286                   0.042962   \n",
       "Gender_Non_binary                       -0.358216                  -0.358822   \n",
       "Platform_Facebook                       -0.368165                  -0.376501   \n",
       "Platform_Instagram                       0.846653                   0.713866   \n",
       "Platform_LinkedIn                       -0.373942                  -0.417467   \n",
       "Platform_Snapchat                       -0.097848                  -0.072459   \n",
       "Platform_Telegram                       -0.103674                  -0.082730   \n",
       "Platform_Twitter                        -0.075893                   0.066871   \n",
       "Platform_Whatsapp                       -0.025313                  -0.006171   \n",
       "Encoded_Emotion                          0.551634                   0.487516   \n",
       "\n",
       "                           Messages_Sent_Per_Day  Gender_Female  Gender_Male  \\\n",
       "Age                                     0.104882      -0.038697     0.217168   \n",
       "Daily_Usage_Time                        0.896025       0.331066    -0.052422   \n",
       "Posts_Per_Day                           0.854427       0.302008    -0.011457   \n",
       "Likes_Received_Per_Day                  0.903246       0.344662    -0.008286   \n",
       "Comments_Received_Per_Day               0.876754       0.294085     0.042962   \n",
       "Messages_Sent_Per_Day                   1.000000       0.272684     0.025724   \n",
       "Gender_Female                           0.272684       1.000000    -0.558194   \n",
       "Gender_Male                             0.025724      -0.558194     1.000000   \n",
       "Gender_Non_binary                      -0.317712      -0.471644    -0.468360   \n",
       "Platform_Facebook                      -0.329690      -0.310039    -0.139124   \n",
       "Platform_Instagram                      0.725818       0.319295    -0.052263   \n",
       "Platform_LinkedIn                      -0.422276      -0.042776     0.051337   \n",
       "Platform_Snapchat                      -0.012314       0.015780    -0.234083   \n",
       "Platform_Telegram                      -0.024915      -0.219150     0.249388   \n",
       "Platform_Twitter                       -0.071686      -0.003376     0.194244   \n",
       "Platform_Whatsapp                      -0.006088       0.220688    -0.063392   \n",
       "Encoded_Emotion                         0.449682       0.158501    -0.085770   \n",
       "\n",
       "                           Gender_Non_binary  Platform_Facebook  \\\n",
       "Age                                -0.189592          -0.173497   \n",
       "Daily_Usage_Time                   -0.296831          -0.299914   \n",
       "Posts_Per_Day                      -0.309425          -0.342113   \n",
       "Likes_Received_Per_Day             -0.358216          -0.368165   \n",
       "Comments_Received_Per_Day          -0.358822          -0.376501   \n",
       "Messages_Sent_Per_Day              -0.317712          -0.329690   \n",
       "Gender_Female                      -0.471644          -0.310039   \n",
       "Gender_Male                        -0.468360          -0.139124   \n",
       "Gender_Non_binary                   1.000000           0.478009   \n",
       "Platform_Facebook                   0.478009           1.000000   \n",
       "Platform_Instagram                 -0.284465          -0.280919   \n",
       "Platform_LinkedIn                  -0.009008          -0.186909   \n",
       "Platform_Snapchat                   0.231971          -0.156415   \n",
       "Platform_Telegram                  -0.031674          -0.145417   \n",
       "Platform_Twitter                   -0.202841          -0.245619   \n",
       "Platform_Whatsapp                  -0.167633          -0.138038   \n",
       "Encoded_Emotion                    -0.077631          -0.138760   \n",
       "\n",
       "                           Platform_Instagram  Platform_LinkedIn  \\\n",
       "Age                                  0.103676           0.196076   \n",
       "Daily_Usage_Time                     0.831822          -0.371440   \n",
       "Posts_Per_Day                        0.736625          -0.386134   \n",
       "Likes_Received_Per_Day               0.846653          -0.373942   \n",
       "Comments_Received_Per_Day            0.713866          -0.417467   \n",
       "Messages_Sent_Per_Day                0.725818          -0.422276   \n",
       "Gender_Female                        0.319295          -0.042776   \n",
       "Gender_Male                         -0.052263           0.051337   \n",
       "Gender_Non_binary                   -0.284465          -0.009008   \n",
       "Platform_Facebook                   -0.280919          -0.186909   \n",
       "Platform_Instagram                   1.000000          -0.212151   \n",
       "Platform_LinkedIn                   -0.212151           1.000000   \n",
       "Platform_Snapchat                   -0.177538          -0.118125   \n",
       "Platform_Telegram                   -0.165055          -0.109819   \n",
       "Platform_Twitter                    -0.278789          -0.185492   \n",
       "Platform_Whatsapp                   -0.156680          -0.104247   \n",
       "Encoded_Emotion                      0.604260          -0.185919   \n",
       "\n",
       "                           Platform_Snapchat  Platform_Telegram  \\\n",
       "Age                                -0.115643           0.057043   \n",
       "Daily_Usage_Time                   -0.026588          -0.133361   \n",
       "Posts_Per_Day                      -0.093407          -0.084904   \n",
       "Likes_Received_Per_Day             -0.097848          -0.103674   \n",
       "Comments_Received_Per_Day          -0.072459          -0.082730   \n",
       "Messages_Sent_Per_Day              -0.012314          -0.024915   \n",
       "Gender_Female                       0.015780          -0.219150   \n",
       "Gender_Male                        -0.234083           0.249388   \n",
       "Gender_Non_binary                   0.231971          -0.031674   \n",
       "Platform_Facebook                  -0.156415          -0.145417   \n",
       "Platform_Instagram                 -0.177538          -0.165055   \n",
       "Platform_LinkedIn                  -0.118125          -0.109819   \n",
       "Platform_Snapchat                   1.000000          -0.091902   \n",
       "Platform_Telegram                  -0.091902           1.000000   \n",
       "Platform_Twitter                   -0.155229          -0.144314   \n",
       "Platform_Whatsapp                  -0.087239          -0.081105   \n",
       "Encoded_Emotion                    -0.044196          -0.079656   \n",
       "\n",
       "                           Platform_Twitter  Platform_Whatsapp  \\\n",
       "Age                               -0.088574           0.050971   \n",
       "Daily_Usage_Time                  -0.143169          -0.053961   \n",
       "Posts_Per_Day                      0.019666          -0.038994   \n",
       "Likes_Received_Per_Day            -0.075893          -0.025313   \n",
       "Comments_Received_Per_Day          0.066871          -0.006171   \n",
       "Messages_Sent_Per_Day             -0.071686          -0.006088   \n",
       "Gender_Female                     -0.003376           0.220688   \n",
       "Gender_Male                        0.194244          -0.063392   \n",
       "Gender_Non_binary                 -0.202841          -0.167633   \n",
       "Platform_Facebook                 -0.245619          -0.138038   \n",
       "Platform_Instagram                -0.278789          -0.156680   \n",
       "Platform_LinkedIn                 -0.185492          -0.104247   \n",
       "Platform_Snapchat                 -0.155229          -0.087239   \n",
       "Platform_Telegram                 -0.144314          -0.081105   \n",
       "Platform_Twitter                   1.000000          -0.136992   \n",
       "Platform_Whatsapp                 -0.136992           1.000000   \n",
       "Encoded_Emotion                   -0.239510          -0.050451   \n",
       "\n",
       "                           Encoded_Emotion  \n",
       "Age                              -0.081473  \n",
       "Daily_Usage_Time                  0.565848  \n",
       "Posts_Per_Day                     0.495523  \n",
       "Likes_Received_Per_Day            0.551634  \n",
       "Comments_Received_Per_Day         0.487516  \n",
       "Messages_Sent_Per_Day             0.449682  \n",
       "Gender_Female                     0.158501  \n",
       "Gender_Male                      -0.085770  \n",
       "Gender_Non_binary                -0.077631  \n",
       "Platform_Facebook                -0.138760  \n",
       "Platform_Instagram                0.604260  \n",
       "Platform_LinkedIn                -0.185919  \n",
       "Platform_Snapchat                -0.044196  \n",
       "Platform_Telegram                -0.079656  \n",
       "Platform_Twitter                 -0.239510  \n",
       "Platform_Whatsapp                -0.050451  \n",
       "Encoded_Emotion                   1.000000  "
      ]
     },
     "execution_count": 33,
     "metadata": {},
     "output_type": "execute_result"
    }
   ],
   "source": [
    "correlation_matrix = data_bin.corr()\n",
    "correlation_matrix"
   ]
  },
  {
   "cell_type": "code",
   "execution_count": 34,
   "id": "39ad7709",
   "metadata": {},
   "outputs": [
    {
     "data": {
      "text/plain": [
       "<AxesSubplot:>"
      ]
     },
     "execution_count": 34,
     "metadata": {},
     "output_type": "execute_result"
    },
    {
     "data": {
      "image/png": "[encoded data removed]",
      "text/plain": [
       "<Figure size 720x720 with 2 Axes>"
      ]
     },
     "metadata": {
      "needs_background": "light"
     },
     "output_type": "display_data"
    }
   ],
   "source": [
    "plt.figure(figsize = (10, 10))\n",
    "sns.heatmap(correlation_matrix, cmap = \"Oranges\")"
   ]
  },
  {
   "cell_type": "markdown",
   "id": "0418182e",
   "metadata": {},
   "source": [
    "From this heatmap, there are a few features that seem to be highly correlated to emotion:\n",
    "- Daily_Usage_Time\n",
    "- Posts_Per_Day\n",
    "- Comments_Received_Per_Day\n",
    "- Messages_Sent_Per_day\n",
    "- Platform_Instagram\n",
    "\n",
    "All these features are also highly correllated with **each other**. This aligns with what was discovered in the initial pair plots. This indicates potential multicollinearity, and that all these predictors might not be necessary as they are representing redundant data.\n",
    "\n",
    "When looking at the correllation coefficients, the largest one for emotion is Platform_Instagram, hinting that this might be one of the strongest predictors of emotion.\n",
    "\n",
    "It is also interesting to note that the genders marked as female have a larger correllation to emotion than male and non-binary do."
   ]
  },
  {
   "cell_type": "markdown",
   "id": "647c1530",
   "metadata": {},
   "source": [
    "Due to all these signs of collinearity, one path forward to avoid duplicate data is to combine some of these features. Posts_Per_Day, Likes_Received_Per_Day, Comments_Received_Per_Day, and Messages_Sent_Per_Day can be combined into one predictor, called Total_Activity. This way, the collinearity is reduced, but none of the data is removed. Note: this step was performed after initial models were made, in hopes of increasing model accuracy.\n",
    "\n",
    "This can be done on both of the data frames."
   ]
  },
  {
   "cell_type": "code",
   "execution_count": 35,
   "id": "d5fb9adf",
   "metadata": {},
   "outputs": [
    {
     "name": "stdout",
     "output_type": "stream",
     "text": [
      "<class 'pandas.core.frame.DataFrame'>\n",
      "Int64Index: 1245 entries, 0 to 1248\n",
      "Data columns (total 14 columns):\n",
      " #   Column              Non-Null Count  Dtype  \n",
      "---  ------              --------------  -----  \n",
      " 0   Age                 1245 non-null   float64\n",
      " 1   Daily_Usage_Time    1245 non-null   float64\n",
      " 2   Gender_Female       1245 non-null   uint8  \n",
      " 3   Gender_Male         1245 non-null   uint8  \n",
      " 4   Gender_Non_binary   1245 non-null   uint8  \n",
      " 5   Platform_Facebook   1245 non-null   uint8  \n",
      " 6   Platform_Instagram  1245 non-null   uint8  \n",
      " 7   Platform_LinkedIn   1245 non-null   uint8  \n",
      " 8   Platform_Snapchat   1245 non-null   uint8  \n",
      " 9   Platform_Telegram   1245 non-null   uint8  \n",
      " 10  Platform_Twitter    1245 non-null   uint8  \n",
      " 11  Platform_Whatsapp   1245 non-null   uint8  \n",
      " 12  Encoded_Emotion     1245 non-null   int64  \n",
      " 13  Total_Activity      1245 non-null   float64\n",
      "dtypes: float64(3), int64(1), uint8(10)\n",
      "memory usage: 60.8 KB\n"
     ]
    }
   ],
   "source": [
    "data_bin['Total_Activity'] = (data_bin['Posts_Per_Day'] + data_bin['Likes_Received_Per_Day'] +\n",
    "                              data_bin['Comments_Received_Per_Day'] + data_bin['Messages_Sent_Per_Day'])\n",
    "\n",
    "data_bin.drop(['Posts_Per_Day', 'Likes_Received_Per_Day', \n",
    "               'Comments_Received_Per_Day', 'Messages_Sent_Per_Day'], axis = 1, inplace = True)\n",
    "data_bin.info()"
   ]
  },
  {
   "cell_type": "code",
   "execution_count": 36,
   "id": "4f842621",
   "metadata": {},
   "outputs": [
    {
     "name": "stdout",
     "output_type": "stream",
     "text": [
      "<class 'pandas.core.frame.DataFrame'>\n",
      "Int64Index: 1245 entries, 0 to 1248\n",
      "Data columns (total 14 columns):\n",
      " #   Column              Non-Null Count  Dtype  \n",
      "---  ------              --------------  -----  \n",
      " 0   Age                 1245 non-null   float64\n",
      " 1   Daily_Usage_Time    1245 non-null   float64\n",
      " 2   Dominant_Emotion    1245 non-null   object \n",
      " 3   Gender_Female       1245 non-null   uint8  \n",
      " 4   Gender_Male         1245 non-null   uint8  \n",
      " 5   Gender_Non_binary   1245 non-null   uint8  \n",
      " 6   Platform_Facebook   1245 non-null   uint8  \n",
      " 7   Platform_Instagram  1245 non-null   uint8  \n",
      " 8   Platform_LinkedIn   1245 non-null   uint8  \n",
      " 9   Platform_Snapchat   1245 non-null   uint8  \n",
      " 10  Platform_Telegram   1245 non-null   uint8  \n",
      " 11  Platform_Twitter    1245 non-null   uint8  \n",
      " 12  Platform_Whatsapp   1245 non-null   uint8  \n",
      " 13  Total_Activity      1245 non-null   float64\n",
      "dtypes: float64(3), object(1), uint8(10)\n",
      "memory usage: 60.8+ KB\n"
     ]
    }
   ],
   "source": [
    "data['Total_Activity'] = (data['Posts_Per_Day'] + data['Likes_Received_Per_Day'] +\n",
    "                              data['Comments_Received_Per_Day'] + data['Messages_Sent_Per_Day'])\n",
    "\n",
    "data.drop(['Posts_Per_Day', 'Likes_Received_Per_Day', \n",
    "               'Comments_Received_Per_Day', 'Messages_Sent_Per_Day'], axis = 1, inplace = True)\n",
    "data.info()"
   ]
  },
  {
   "cell_type": "markdown",
   "id": "9ddd3288",
   "metadata": {},
   "source": [
    "___"
   ]
  },
  {
   "cell_type": "markdown",
   "id": "5c69ae37",
   "metadata": {},
   "source": [
    "## Splitting the Data\n",
    "Now that the data is cleaned and the features have been sorted to reduce interactions, and the categorical features have been encoded to all be numerical or binary in one of the data frames, it is time to split both our datasets into test and train to begin modeling. This uses a common 20% test and 80% train split."
   ]
  },
  {
   "cell_type": "code",
   "execution_count": 37,
   "id": "a90eb69e",
   "metadata": {},
   "outputs": [
    {
     "name": "stdout",
     "output_type": "stream",
     "text": [
      "Train set shape: (996, 13)\n",
      "Test set shape: (249, 13)\n"
     ]
    }
   ],
   "source": [
    "X = data.drop(columns = ['Dominant_Emotion'])\n",
    "y = data['Dominant_Emotion']\n",
    "\n",
    "\n",
    "X_train, X_test, y_train, y_test = train_test_split(X, y, test_size = 0.2, random_state = 123)\n",
    "predictors = X.columns\n",
    "\n",
    "print(f\"Train set shape: {X_train.shape}\")\n",
    "print(f\"Test set shape: {X_test.shape}\")\n",
    "\n",
    "test = pd.concat([X_test, y_test], axis = 1)\n",
    "train = pd.concat([X_train, y_train], axis = 1)"
   ]
  },
  {
   "cell_type": "code",
   "execution_count": 38,
   "id": "2c6589fa",
   "metadata": {
    "scrolled": false
   },
   "outputs": [
    {
     "name": "stdout",
     "output_type": "stream",
     "text": [
      "Train set shape: (996, 13)\n",
      "Test set shape: (249, 13)\n"
     ]
    }
   ],
   "source": [
    "X_bin = data_bin.drop(columns = ['Encoded_Emotion'])\n",
    "y_bin = data_bin['Encoded_Emotion']\n",
    "\n",
    "X_train_bin, X_test_bin, y_train_bin, y_test_bin = train_test_split(X_bin, y_bin, test_size = 0.2, random_state = 123)\n",
    "predictors = X.columns\n",
    "\n",
    "print(f\"Train set shape: {X_train_bin.shape}\")\n",
    "print(f\"Test set shape: {X_test_bin.shape}\")\n",
    "\n",
    "test_bin = pd.concat([X_test_bin, y_test_bin], axis = 1)\n",
    "train_bin = pd.concat([X_train_bin, y_train_bin], axis = 1)"
   ]
  },
  {
   "cell_type": "markdown",
   "id": "dfd7951d",
   "metadata": {},
   "source": [
    "___"
   ]
  },
  {
   "cell_type": "markdown",
   "id": "617689e9",
   "metadata": {},
   "source": [
    "## Modeling Time!\n",
    "Now it's time to build the models. The different models tested here include linear regression, lasso and ridge regression, and random forest classifier. "
   ]
  },
  {
   "cell_type": "markdown",
   "id": "caafbde8",
   "metadata": {},
   "source": [
    "### Linear Regression\n",
    "Since not much is known about data, the simplest first method to try is a linear regression model. One approach to building the best linear regression model is to build four models, with different feature selection methods. These methods will be **forward selection**, **backward selection** and **mixed selection**, as well as a model using all the available predictors, and then comparing the four models. "
   ]
  },
  {
   "cell_type": "markdown",
   "id": "ebe48921",
   "metadata": {},
   "source": [
    "### All the Predictors\n",
    "For the first model, a simple model can be made using all the predictors available:"
   ]
  },
  {
   "cell_type": "code",
   "execution_count": 39,
   "id": "2d9f7f60",
   "metadata": {},
   "outputs": [
    {
     "data": {
      "text/plain": [
       "Index(['Age', 'Daily_Usage_Time', 'Gender_Female', 'Gender_Male',\n",
       "       'Gender_Non_binary', 'Platform_Facebook', 'Platform_Instagram',\n",
       "       'Platform_LinkedIn', 'Platform_Snapchat', 'Platform_Telegram',\n",
       "       'Platform_Twitter', 'Platform_Whatsapp', 'Total_Activity'],\n",
       "      dtype='object')"
      ]
     },
     "execution_count": 39,
     "metadata": {},
     "output_type": "execute_result"
    }
   ],
   "source": [
    "predictors"
   ]
  },
  {
   "cell_type": "code",
   "execution_count": 40,
   "id": "a71ce721",
   "metadata": {},
   "outputs": [],
   "source": [
    "formula = f\"Encoded_Emotion ~ {' + '.join(predictors)}\"\n",
    "all_predictors = smf.ols(formula = formula, data = train_bin).fit()"
   ]
  },
  {
   "cell_type": "code",
   "execution_count": 41,
   "id": "6389b66c",
   "metadata": {
    "scrolled": false
   },
   "outputs": [
    {
     "data": {
      "text/html": [
       "<table class=\"simpletable\">\n",
       "<caption>OLS Regression Results</caption>\n",
       "<tr>\n",
       "  <th>Dep. Variable:</th>     <td>Encoded_Emotion</td> <th>  R-squared:         </th> <td>   0.426</td> \n",
       "</tr>\n",
       "<tr>\n",
       "  <th>Model:</th>                   <td>OLS</td>       <th>  Adj. R-squared:    </th> <td>   0.420</td> \n",
       "</tr>\n",
       "<tr>\n",
       "  <th>Method:</th>             <td>Least Squares</td>  <th>  F-statistic:       </th> <td>   66.50</td> \n",
       "</tr>\n",
       "<tr>\n",
       "  <th>Date:</th>             <td>Fri, 11 Oct 2024</td> <th>  Prob (F-statistic):</th> <td>9.63e-111</td>\n",
       "</tr>\n",
       "<tr>\n",
       "  <th>Time:</th>                 <td>20:06:36</td>     <th>  Log-Likelihood:    </th> <td> -911.17</td> \n",
       "</tr>\n",
       "<tr>\n",
       "  <th>No. Observations:</th>      <td>   996</td>      <th>  AIC:               </th> <td>   1846.</td> \n",
       "</tr>\n",
       "<tr>\n",
       "  <th>Df Residuals:</th>          <td>   984</td>      <th>  BIC:               </th> <td>   1905.</td> \n",
       "</tr>\n",
       "<tr>\n",
       "  <th>Df Model:</th>              <td>    11</td>      <th>                     </th>     <td> </td>    \n",
       "</tr>\n",
       "<tr>\n",
       "  <th>Covariance Type:</th>      <td>nonrobust</td>    <th>                     </th>     <td> </td>    \n",
       "</tr>\n",
       "</table>\n",
       "<table class=\"simpletable\">\n",
       "<tr>\n",
       "           <td></td>             <th>coef</th>     <th>std err</th>      <th>t</th>      <th>P>|t|</th>  <th>[0.025</th>    <th>0.975]</th>  \n",
       "</tr>\n",
       "<tr>\n",
       "  <th>Intercept</th>          <td>   -0.1549</td> <td>    0.111</td> <td>   -1.398</td> <td> 0.162</td> <td>   -0.372</td> <td>    0.063</td>\n",
       "</tr>\n",
       "<tr>\n",
       "  <th>Age</th>                <td>   -0.0280</td> <td>    0.005</td> <td>   -5.262</td> <td> 0.000</td> <td>   -0.038</td> <td>   -0.018</td>\n",
       "</tr>\n",
       "<tr>\n",
       "  <th>Daily_Usage_Time</th>   <td>    0.0066</td> <td>    0.002</td> <td>    4.073</td> <td> 0.000</td> <td>    0.003</td> <td>    0.010</td>\n",
       "</tr>\n",
       "<tr>\n",
       "  <th>Gender_Female</th>      <td>   -0.1371</td> <td>    0.047</td> <td>   -2.904</td> <td> 0.004</td> <td>   -0.230</td> <td>   -0.044</td>\n",
       "</tr>\n",
       "<tr>\n",
       "  <th>Gender_Male</th>        <td>   -0.0781</td> <td>    0.051</td> <td>   -1.518</td> <td> 0.129</td> <td>   -0.179</td> <td>    0.023</td>\n",
       "</tr>\n",
       "<tr>\n",
       "  <th>Gender_Non_binary</th>  <td>    0.0603</td> <td>    0.049</td> <td>    1.232</td> <td> 0.218</td> <td>   -0.036</td> <td>    0.156</td>\n",
       "</tr>\n",
       "<tr>\n",
       "  <th>Platform_Facebook</th>  <td>   -0.1780</td> <td>    0.052</td> <td>   -3.448</td> <td> 0.001</td> <td>   -0.279</td> <td>   -0.077</td>\n",
       "</tr>\n",
       "<tr>\n",
       "  <th>Platform_Instagram</th> <td>    0.6424</td> <td>    0.086</td> <td>    7.488</td> <td> 0.000</td> <td>    0.474</td> <td>    0.811</td>\n",
       "</tr>\n",
       "<tr>\n",
       "  <th>Platform_LinkedIn</th>  <td>   -0.1311</td> <td>    0.065</td> <td>   -2.023</td> <td> 0.043</td> <td>   -0.258</td> <td>   -0.004</td>\n",
       "</tr>\n",
       "<tr>\n",
       "  <th>Platform_Snapchat</th>  <td>   -0.1338</td> <td>    0.064</td> <td>   -2.102</td> <td> 0.036</td> <td>   -0.259</td> <td>   -0.009</td>\n",
       "</tr>\n",
       "<tr>\n",
       "  <th>Platform_Telegram</th>  <td>   -0.0624</td> <td>    0.066</td> <td>   -0.939</td> <td> 0.348</td> <td>   -0.193</td> <td>    0.068</td>\n",
       "</tr>\n",
       "<tr>\n",
       "  <th>Platform_Twitter</th>   <td>   -0.2826</td> <td>    0.046</td> <td>   -6.173</td> <td> 0.000</td> <td>   -0.372</td> <td>   -0.193</td>\n",
       "</tr>\n",
       "<tr>\n",
       "  <th>Platform_Whatsapp</th>  <td>   -0.0093</td> <td>    0.071</td> <td>   -0.131</td> <td> 0.896</td> <td>   -0.149</td> <td>    0.131</td>\n",
       "</tr>\n",
       "<tr>\n",
       "  <th>Total_Activity</th>     <td>   -0.0010</td> <td>    0.001</td> <td>   -0.650</td> <td> 0.516</td> <td>   -0.004</td> <td>    0.002</td>\n",
       "</tr>\n",
       "</table>\n",
       "<table class=\"simpletable\">\n",
       "<tr>\n",
       "  <th>Omnibus:</th>       <td>13.713</td> <th>  Durbin-Watson:     </th> <td>   1.946</td>\n",
       "</tr>\n",
       "<tr>\n",
       "  <th>Prob(Omnibus):</th> <td> 0.001</td> <th>  Jarque-Bera (JB):  </th> <td>  22.008</td>\n",
       "</tr>\n",
       "<tr>\n",
       "  <th>Skew:</th>          <td> 0.062</td> <th>  Prob(JB):          </th> <td>1.66e-05</td>\n",
       "</tr>\n",
       "<tr>\n",
       "  <th>Kurtosis:</th>      <td> 3.718</td> <th>  Cond. No.          </th> <td>6.96e+17</td>\n",
       "</tr>\n",
       "</table><br/><br/>Notes:<br/>[1] Standard Errors assume that the covariance matrix of the errors is correctly specified.<br/>[2] The smallest eigenvalue is 3.99e-29. This might indicate that there are<br/>strong multicollinearity problems or that the design matrix is singular."
      ],
      "text/plain": [
       "<class 'statsmodels.iolib.summary.Summary'>\n",
       "\"\"\"\n",
       "                            OLS Regression Results                            \n",
       "==============================================================================\n",
       "Dep. Variable:        Encoded_Emotion   R-squared:                       0.426\n",
       "Model:                            OLS   Adj. R-squared:                  0.420\n",
       "Method:                 Least Squares   F-statistic:                     66.50\n",
       "Date:                Fri, 11 Oct 2024   Prob (F-statistic):          9.63e-111\n",
       "Time:                        20:06:36   Log-Likelihood:                -911.17\n",
       "No. Observations:                 996   AIC:                             1846.\n",
       "Df Residuals:                     984   BIC:                             1905.\n",
       "Df Model:                          11                                         \n",
       "Covariance Type:            nonrobust                                         \n",
       "======================================================================================\n",
       "                         coef    std err          t      P>|t|      [0.025      0.975]\n",
       "--------------------------------------------------------------------------------------\n",
       "Intercept             -0.1549      0.111     -1.398      0.162      -0.372       0.063\n",
       "Age                   -0.0280      0.005     -5.262      0.000      -0.038      -0.018\n",
       "Daily_Usage_Time       0.0066      0.002      4.073      0.000       0.003       0.010\n",
       "Gender_Female         -0.1371      0.047     -2.904      0.004      -0.230      -0.044\n",
       "Gender_Male           -0.0781      0.051     -1.518      0.129      -0.179       0.023\n",
       "Gender_Non_binary      0.0603      0.049      1.232      0.218      -0.036       0.156\n",
       "Platform_Facebook     -0.1780      0.052     -3.448      0.001      -0.279      -0.077\n",
       "Platform_Instagram     0.6424      0.086      7.488      0.000       0.474       0.811\n",
       "Platform_LinkedIn     -0.1311      0.065     -2.023      0.043      -0.258      -0.004\n",
       "Platform_Snapchat     -0.1338      0.064     -2.102      0.036      -0.259      -0.009\n",
       "Platform_Telegram     -0.0624      0.066     -0.939      0.348      -0.193       0.068\n",
       "Platform_Twitter      -0.2826      0.046     -6.173      0.000      -0.372      -0.193\n",
       "Platform_Whatsapp     -0.0093      0.071     -0.131      0.896      -0.149       0.131\n",
       "Total_Activity        -0.0010      0.001     -0.650      0.516      -0.004       0.002\n",
       "==============================================================================\n",
       "Omnibus:                       13.713   Durbin-Watson:                   1.946\n",
       "Prob(Omnibus):                  0.001   Jarque-Bera (JB):               22.008\n",
       "Skew:                           0.062   Prob(JB):                     1.66e-05\n",
       "Kurtosis:                       3.718   Cond. No.                     6.96e+17\n",
       "==============================================================================\n",
       "\n",
       "Notes:\n",
       "[1] Standard Errors assume that the covariance matrix of the errors is correctly specified.\n",
       "[2] The smallest eigenvalue is 3.99e-29. This might indicate that there are\n",
       "strong multicollinearity problems or that the design matrix is singular.\n",
       "\"\"\""
      ]
     },
     "execution_count": 41,
     "metadata": {},
     "output_type": "execute_result"
    }
   ],
   "source": [
    "all_predictors.summary()"
   ]
  },
  {
   "cell_type": "markdown",
   "id": "2bda7011",
   "metadata": {},
   "source": [
    "A few things of note from this summary:\n",
    "- The model gives an $R^2$ value of 0.426. This is a metric of how much of the total variance can be explained by the model. 0.424 is generally not a good $R^2$ value. However, since this project is looking at psychological data as the response, rather than something mathematical, these datasets tend to have less explained variance.\n",
    "- There are also several predictors with high p-values, indicating that many of the predictors are not significant.\n",
    "\n",
    "Upon these initial observations, it does not seem like this is a good model for our data.\n",
    "\n",
    "- Theres is an F-statistic of 66.5, with a p-value of 9.63e-111. This indicates that the predictors as a group are statistically significant, and explain a significant portion of the variance in our response, even if this model is not the best fit."
   ]
  },
  {
   "cell_type": "markdown",
   "id": "4235565c",
   "metadata": {},
   "source": [
    "### Backward Selection\n",
    "Another approach to try is **backward selection**, starting with all the predictors and removing them one by one based on their p-values."
   ]
  },
  {
   "cell_type": "markdown",
   "id": "e3a9c6cd",
   "metadata": {},
   "source": [
    "From the all_predictors model above, the predictors with large p-values, indicating that they are not significant predictors, include Posts_Per_Day, Likes_Received_Per_Day, Gender_Female, Gender_Male, Platform_LinkedIn, Platform_Snapchat, Platform_Telegram, and Platform_Whatsapp. Backward selection should always be approached by removing predictors one by one, and recalculating the p-values.\n",
    "\n",
    "This can be done with the following function:"
   ]
  },
  {
   "cell_type": "code",
   "execution_count": 42,
   "id": "7987d75d",
   "metadata": {},
   "outputs": [],
   "source": [
    "def backward_selection(data, predictors, alpha):\n",
    "    while True:\n",
    "        formula = f\"Encoded_Emotion ~ {' + '.join(predictors)}\"\n",
    "        model = smf.ols(formula = formula, data = data).fit()\n",
    "        p_values = model.pvalues[1:]\n",
    "        max_p_value = p_values.max()\n",
    "        if max_p_value < alpha:\n",
    "            break\n",
    "\n",
    "        predictor_to_remove = p_values.idxmax()\n",
    "        predictors = predictors.drop(predictor_to_remove)\n",
    "\n",
    "        print(f\"Removing: {predictor_to_remove}, P-value: {max_p_value}\")\n",
    "        \n",
    "    return model, predictors"
   ]
  },
  {
   "cell_type": "code",
   "execution_count": 43,
   "id": "554812b0",
   "metadata": {
    "scrolled": false
   },
   "outputs": [
    {
     "name": "stdout",
     "output_type": "stream",
     "text": [
      "Removing: Platform_Whatsapp, P-value: 0.8961791307044786\n",
      "Removing: Platform_Telegram, P-value: 0.6163182436733856\n",
      "Removing: Total_Activity, P-value: 0.5255216711383588\n",
      "Removing: Gender_Non_binary, P-value: 0.3791576258772811\n",
      "Removing: Platform_LinkedIn, P-value: 0.33227267459159515\n",
      "Removing: Platform_Snapchat, P-value: 0.46940854941584487\n",
      "Removing: Platform_Facebook, P-value: 0.22957073282719556\n"
     ]
    }
   ],
   "source": [
    "backward_model, backward_predictors = backward_selection(train_bin, predictors, alpha = 0.05)"
   ]
  },
  {
   "cell_type": "code",
   "execution_count": 44,
   "id": "f9d86d2f",
   "metadata": {},
   "outputs": [
    {
     "data": {
      "text/html": [
       "<table class=\"simpletable\">\n",
       "<caption>OLS Regression Results</caption>\n",
       "<tr>\n",
       "  <th>Dep. Variable:</th>     <td>Encoded_Emotion</td> <th>  R-squared:         </th> <td>   0.424</td> \n",
       "</tr>\n",
       "<tr>\n",
       "  <th>Model:</th>                   <td>OLS</td>       <th>  Adj. R-squared:    </th> <td>   0.421</td> \n",
       "</tr>\n",
       "<tr>\n",
       "  <th>Method:</th>             <td>Least Squares</td>  <th>  F-statistic:       </th> <td>   121.5</td> \n",
       "</tr>\n",
       "<tr>\n",
       "  <th>Date:</th>             <td>Fri, 11 Oct 2024</td> <th>  Prob (F-statistic):</th> <td>5.73e-115</td>\n",
       "</tr>\n",
       "<tr>\n",
       "  <th>Time:</th>                 <td>20:06:36</td>     <th>  Log-Likelihood:    </th> <td> -912.97</td> \n",
       "</tr>\n",
       "<tr>\n",
       "  <th>No. Observations:</th>      <td>   996</td>      <th>  AIC:               </th> <td>   1840.</td> \n",
       "</tr>\n",
       "<tr>\n",
       "  <th>Df Residuals:</th>          <td>   989</td>      <th>  BIC:               </th> <td>   1874.</td> \n",
       "</tr>\n",
       "<tr>\n",
       "  <th>Df Model:</th>              <td>     6</td>      <th>                     </th>     <td> </td>    \n",
       "</tr>\n",
       "<tr>\n",
       "  <th>Covariance Type:</th>      <td>nonrobust</td>    <th>                     </th>     <td> </td>    \n",
       "</tr>\n",
       "</table>\n",
       "<table class=\"simpletable\">\n",
       "<tr>\n",
       "           <td></td>             <th>coef</th>     <th>std err</th>      <th>t</th>      <th>P>|t|</th>  <th>[0.025</th>    <th>0.975]</th>  \n",
       "</tr>\n",
       "<tr>\n",
       "  <th>Intercept</th>          <td>   -0.2703</td> <td>    0.153</td> <td>   -1.767</td> <td> 0.078</td> <td>   -0.571</td> <td>    0.030</td>\n",
       "</tr>\n",
       "<tr>\n",
       "  <th>Age</th>                <td>   -0.0270</td> <td>    0.005</td> <td>   -5.270</td> <td> 0.000</td> <td>   -0.037</td> <td>   -0.017</td>\n",
       "</tr>\n",
       "<tr>\n",
       "  <th>Daily_Usage_Time</th>   <td>    0.0059</td> <td>    0.001</td> <td>    6.521</td> <td> 0.000</td> <td>    0.004</td> <td>    0.008</td>\n",
       "</tr>\n",
       "<tr>\n",
       "  <th>Gender_Female</th>      <td>   -0.1568</td> <td>    0.054</td> <td>   -2.919</td> <td> 0.004</td> <td>   -0.262</td> <td>   -0.051</td>\n",
       "</tr>\n",
       "<tr>\n",
       "  <th>Gender_Male</th>        <td>   -0.1086</td> <td>    0.053</td> <td>   -2.048</td> <td> 0.041</td> <td>   -0.213</td> <td>   -0.005</td>\n",
       "</tr>\n",
       "<tr>\n",
       "  <th>Platform_Instagram</th> <td>    0.7113</td> <td>    0.085</td> <td>    8.346</td> <td> 0.000</td> <td>    0.544</td> <td>    0.878</td>\n",
       "</tr>\n",
       "<tr>\n",
       "  <th>Platform_Twitter</th>   <td>   -0.1857</td> <td>    0.054</td> <td>   -3.412</td> <td> 0.001</td> <td>   -0.293</td> <td>   -0.079</td>\n",
       "</tr>\n",
       "</table>\n",
       "<table class=\"simpletable\">\n",
       "<tr>\n",
       "  <th>Omnibus:</th>       <td>14.602</td> <th>  Durbin-Watson:     </th> <td>   1.953</td>\n",
       "</tr>\n",
       "<tr>\n",
       "  <th>Prob(Omnibus):</th> <td> 0.001</td> <th>  Jarque-Bera (JB):  </th> <td>  23.795</td>\n",
       "</tr>\n",
       "<tr>\n",
       "  <th>Skew:</th>          <td> 0.069</td> <th>  Prob(JB):          </th> <td>6.81e-06</td>\n",
       "</tr>\n",
       "<tr>\n",
       "  <th>Kurtosis:</th>      <td> 3.744</td> <th>  Cond. No.          </th> <td>    862.</td>\n",
       "</tr>\n",
       "</table><br/><br/>Notes:<br/>[1] Standard Errors assume that the covariance matrix of the errors is correctly specified."
      ],
      "text/plain": [
       "<class 'statsmodels.iolib.summary.Summary'>\n",
       "\"\"\"\n",
       "                            OLS Regression Results                            \n",
       "==============================================================================\n",
       "Dep. Variable:        Encoded_Emotion   R-squared:                       0.424\n",
       "Model:                            OLS   Adj. R-squared:                  0.421\n",
       "Method:                 Least Squares   F-statistic:                     121.5\n",
       "Date:                Fri, 11 Oct 2024   Prob (F-statistic):          5.73e-115\n",
       "Time:                        20:06:36   Log-Likelihood:                -912.97\n",
       "No. Observations:                 996   AIC:                             1840.\n",
       "Df Residuals:                     989   BIC:                             1874.\n",
       "Df Model:                           6                                         \n",
       "Covariance Type:            nonrobust                                         \n",
       "======================================================================================\n",
       "                         coef    std err          t      P>|t|      [0.025      0.975]\n",
       "--------------------------------------------------------------------------------------\n",
       "Intercept             -0.2703      0.153     -1.767      0.078      -0.571       0.030\n",
       "Age                   -0.0270      0.005     -5.270      0.000      -0.037      -0.017\n",
       "Daily_Usage_Time       0.0059      0.001      6.521      0.000       0.004       0.008\n",
       "Gender_Female         -0.1568      0.054     -2.919      0.004      -0.262      -0.051\n",
       "Gender_Male           -0.1086      0.053     -2.048      0.041      -0.213      -0.005\n",
       "Platform_Instagram     0.7113      0.085      8.346      0.000       0.544       0.878\n",
       "Platform_Twitter      -0.1857      0.054     -3.412      0.001      -0.293      -0.079\n",
       "==============================================================================\n",
       "Omnibus:                       14.602   Durbin-Watson:                   1.953\n",
       "Prob(Omnibus):                  0.001   Jarque-Bera (JB):               23.795\n",
       "Skew:                           0.069   Prob(JB):                     6.81e-06\n",
       "Kurtosis:                       3.744   Cond. No.                         862.\n",
       "==============================================================================\n",
       "\n",
       "Notes:\n",
       "[1] Standard Errors assume that the covariance matrix of the errors is correctly specified.\n",
       "\"\"\""
      ]
     },
     "execution_count": 44,
     "metadata": {},
     "output_type": "execute_result"
    }
   ],
   "source": [
    "backward_model.summary()"
   ]
  },
  {
   "cell_type": "markdown",
   "id": "3825bd6a",
   "metadata": {},
   "source": [
    "- This model actuall results in a similar but even lower $R^2$ value, of 0.424, indicating that this models is not predicting more of the variance than we were with our original model. \n",
    "- There is an even higher F-statistic than the previous model. It is 121.5, which means that this model as a whole is better at explaining the variance in the response. This also means that our the $R^2$ might just be due to the fact that there are less predictors. This is confirmed with the adjusted $R^2$ of the models (which adjusts for number of predictors), which are both very close together, with this model's adjusted $R^2$ slightly larger."
   ]
  },
  {
   "cell_type": "markdown",
   "id": "b81f1f20",
   "metadata": {},
   "source": [
    "### Forward Selection\n",
    "The next method used forward selection, which works by adding predictors one by one based on their $R^2$ values."
   ]
  },
  {
   "cell_type": "code",
   "execution_count": 45,
   "id": "4e525ed2",
   "metadata": {
    "scrolled": true
   },
   "outputs": [],
   "source": [
    "def forward_selection(data, predictors):\n",
    "\n",
    "    best_predictors = []\n",
    "    best_r_2 = 0\n",
    "\n",
    "    for predictor in predictors:\n",
    "        \n",
    "        formula = f\"Encoded_Emotion ~ {' + '.join(best_predictors + [predictor])}\"\n",
    "        model = smf.ols(formula = formula, data = data).fit()\n",
    "        if model.rsquared > best_r_2:\n",
    "            best_predictors.append(predictor)\n",
    "            best_r_2 = model.rsquared\n",
    "            print(f\"Adding predictor: {predictor} with R^2 value: {round(best_r_2,3)}\")\n",
    "            \n",
    "    return model, predictors"
   ]
  },
  {
   "cell_type": "code",
   "execution_count": 46,
   "id": "fdd370c2",
   "metadata": {},
   "outputs": [
    {
     "name": "stdout",
     "output_type": "stream",
     "text": [
      "Adding predictor: Age with R^2 value: 0.005\n",
      "Adding predictor: Daily_Usage_Time with R^2 value: 0.354\n",
      "Adding predictor: Gender_Female with R^2 value: 0.355\n",
      "Adding predictor: Gender_Male with R^2 value: 0.36\n",
      "Adding predictor: Gender_Non_binary with R^2 value: 0.36\n",
      "Adding predictor: Platform_Facebook with R^2 value: 0.36\n",
      "Adding predictor: Platform_Instagram with R^2 value: 0.418\n",
      "Adding predictor: Platform_LinkedIn with R^2 value: 0.418\n",
      "Adding predictor: Platform_Snapchat with R^2 value: 0.418\n",
      "Adding predictor: Platform_Telegram with R^2 value: 0.42\n",
      "Adding predictor: Platform_Twitter with R^2 value: 0.426\n",
      "Adding predictor: Total_Activity with R^2 value: 0.426\n"
     ]
    }
   ],
   "source": [
    "forward_model, forward_predictors = forward_selection(train_bin, predictors)"
   ]
  },
  {
   "cell_type": "code",
   "execution_count": 47,
   "id": "3d39878b",
   "metadata": {
    "scrolled": false
   },
   "outputs": [
    {
     "data": {
      "text/html": [
       "<table class=\"simpletable\">\n",
       "<caption>OLS Regression Results</caption>\n",
       "<tr>\n",
       "  <th>Dep. Variable:</th>     <td>Encoded_Emotion</td> <th>  R-squared:         </th> <td>   0.426</td> \n",
       "</tr>\n",
       "<tr>\n",
       "  <th>Model:</th>                   <td>OLS</td>       <th>  Adj. R-squared:    </th> <td>   0.420</td> \n",
       "</tr>\n",
       "<tr>\n",
       "  <th>Method:</th>             <td>Least Squares</td>  <th>  F-statistic:       </th> <td>   66.50</td> \n",
       "</tr>\n",
       "<tr>\n",
       "  <th>Date:</th>             <td>Fri, 11 Oct 2024</td> <th>  Prob (F-statistic):</th> <td>9.63e-111</td>\n",
       "</tr>\n",
       "<tr>\n",
       "  <th>Time:</th>                 <td>20:06:36</td>     <th>  Log-Likelihood:    </th> <td> -911.17</td> \n",
       "</tr>\n",
       "<tr>\n",
       "  <th>No. Observations:</th>      <td>   996</td>      <th>  AIC:               </th> <td>   1846.</td> \n",
       "</tr>\n",
       "<tr>\n",
       "  <th>Df Residuals:</th>          <td>   984</td>      <th>  BIC:               </th> <td>   1905.</td> \n",
       "</tr>\n",
       "<tr>\n",
       "  <th>Df Model:</th>              <td>    11</td>      <th>                     </th>     <td> </td>    \n",
       "</tr>\n",
       "<tr>\n",
       "  <th>Covariance Type:</th>      <td>nonrobust</td>    <th>                     </th>     <td> </td>    \n",
       "</tr>\n",
       "</table>\n",
       "<table class=\"simpletable\">\n",
       "<tr>\n",
       "           <td></td>             <th>coef</th>     <th>std err</th>      <th>t</th>      <th>P>|t|</th>  <th>[0.025</th>    <th>0.975]</th>  \n",
       "</tr>\n",
       "<tr>\n",
       "  <th>Intercept</th>          <td>   -0.1619</td> <td>    0.136</td> <td>   -1.191</td> <td> 0.234</td> <td>   -0.429</td> <td>    0.105</td>\n",
       "</tr>\n",
       "<tr>\n",
       "  <th>Age</th>                <td>   -0.0280</td> <td>    0.005</td> <td>   -5.262</td> <td> 0.000</td> <td>   -0.038</td> <td>   -0.018</td>\n",
       "</tr>\n",
       "<tr>\n",
       "  <th>Daily_Usage_Time</th>   <td>    0.0066</td> <td>    0.002</td> <td>    4.073</td> <td> 0.000</td> <td>    0.003</td> <td>    0.010</td>\n",
       "</tr>\n",
       "<tr>\n",
       "  <th>Gender_Female</th>      <td>   -0.1394</td> <td>    0.051</td> <td>   -2.743</td> <td> 0.006</td> <td>   -0.239</td> <td>   -0.040</td>\n",
       "</tr>\n",
       "<tr>\n",
       "  <th>Gender_Male</th>        <td>   -0.0804</td> <td>    0.059</td> <td>   -1.372</td> <td> 0.170</td> <td>   -0.195</td> <td>    0.035</td>\n",
       "</tr>\n",
       "<tr>\n",
       "  <th>Gender_Non_binary</th>  <td>    0.0580</td> <td>    0.058</td> <td>    1.006</td> <td> 0.314</td> <td>   -0.055</td> <td>    0.171</td>\n",
       "</tr>\n",
       "<tr>\n",
       "  <th>Platform_Facebook</th>  <td>   -0.1687</td> <td>    0.098</td> <td>   -1.713</td> <td> 0.087</td> <td>   -0.362</td> <td>    0.025</td>\n",
       "</tr>\n",
       "<tr>\n",
       "  <th>Platform_Instagram</th> <td>    0.6517</td> <td>    0.106</td> <td>    6.138</td> <td> 0.000</td> <td>    0.443</td> <td>    0.860</td>\n",
       "</tr>\n",
       "<tr>\n",
       "  <th>Platform_LinkedIn</th>  <td>   -0.1218</td> <td>    0.101</td> <td>   -1.200</td> <td> 0.230</td> <td>   -0.321</td> <td>    0.077</td>\n",
       "</tr>\n",
       "<tr>\n",
       "  <th>Platform_Snapchat</th>  <td>   -0.1245</td> <td>    0.104</td> <td>   -1.198</td> <td> 0.231</td> <td>   -0.328</td> <td>    0.079</td>\n",
       "</tr>\n",
       "<tr>\n",
       "  <th>Platform_Telegram</th>  <td>   -0.0531</td> <td>    0.106</td> <td>   -0.501</td> <td> 0.616</td> <td>   -0.261</td> <td>    0.155</td>\n",
       "</tr>\n",
       "<tr>\n",
       "  <th>Platform_Twitter</th>   <td>   -0.2733</td> <td>    0.088</td> <td>   -3.122</td> <td> 0.002</td> <td>   -0.445</td> <td>   -0.102</td>\n",
       "</tr>\n",
       "<tr>\n",
       "  <th>Total_Activity</th>     <td>   -0.0010</td> <td>    0.001</td> <td>   -0.650</td> <td> 0.516</td> <td>   -0.004</td> <td>    0.002</td>\n",
       "</tr>\n",
       "</table>\n",
       "<table class=\"simpletable\">\n",
       "<tr>\n",
       "  <th>Omnibus:</th>       <td>13.713</td> <th>  Durbin-Watson:     </th> <td>   1.946</td>\n",
       "</tr>\n",
       "<tr>\n",
       "  <th>Prob(Omnibus):</th> <td> 0.001</td> <th>  Jarque-Bera (JB):  </th> <td>  22.008</td>\n",
       "</tr>\n",
       "<tr>\n",
       "  <th>Skew:</th>          <td> 0.062</td> <th>  Prob(JB):          </th> <td>1.66e-05</td>\n",
       "</tr>\n",
       "<tr>\n",
       "  <th>Kurtosis:</th>      <td> 3.718</td> <th>  Cond. No.          </th> <td>1.68e+17</td>\n",
       "</tr>\n",
       "</table><br/><br/>Notes:<br/>[1] Standard Errors assume that the covariance matrix of the errors is correctly specified.<br/>[2] The smallest eigenvalue is 6.81e-28. This might indicate that there are<br/>strong multicollinearity problems or that the design matrix is singular."
      ],
      "text/plain": [
       "<class 'statsmodels.iolib.summary.Summary'>\n",
       "\"\"\"\n",
       "                            OLS Regression Results                            \n",
       "==============================================================================\n",
       "Dep. Variable:        Encoded_Emotion   R-squared:                       0.426\n",
       "Model:                            OLS   Adj. R-squared:                  0.420\n",
       "Method:                 Least Squares   F-statistic:                     66.50\n",
       "Date:                Fri, 11 Oct 2024   Prob (F-statistic):          9.63e-111\n",
       "Time:                        20:06:36   Log-Likelihood:                -911.17\n",
       "No. Observations:                 996   AIC:                             1846.\n",
       "Df Residuals:                     984   BIC:                             1905.\n",
       "Df Model:                          11                                         \n",
       "Covariance Type:            nonrobust                                         \n",
       "======================================================================================\n",
       "                         coef    std err          t      P>|t|      [0.025      0.975]\n",
       "--------------------------------------------------------------------------------------\n",
       "Intercept             -0.1619      0.136     -1.191      0.234      -0.429       0.105\n",
       "Age                   -0.0280      0.005     -5.262      0.000      -0.038      -0.018\n",
       "Daily_Usage_Time       0.0066      0.002      4.073      0.000       0.003       0.010\n",
       "Gender_Female         -0.1394      0.051     -2.743      0.006      -0.239      -0.040\n",
       "Gender_Male           -0.0804      0.059     -1.372      0.170      -0.195       0.035\n",
       "Gender_Non_binary      0.0580      0.058      1.006      0.314      -0.055       0.171\n",
       "Platform_Facebook     -0.1687      0.098     -1.713      0.087      -0.362       0.025\n",
       "Platform_Instagram     0.6517      0.106      6.138      0.000       0.443       0.860\n",
       "Platform_LinkedIn     -0.1218      0.101     -1.200      0.230      -0.321       0.077\n",
       "Platform_Snapchat     -0.1245      0.104     -1.198      0.231      -0.328       0.079\n",
       "Platform_Telegram     -0.0531      0.106     -0.501      0.616      -0.261       0.155\n",
       "Platform_Twitter      -0.2733      0.088     -3.122      0.002      -0.445      -0.102\n",
       "Total_Activity        -0.0010      0.001     -0.650      0.516      -0.004       0.002\n",
       "==============================================================================\n",
       "Omnibus:                       13.713   Durbin-Watson:                   1.946\n",
       "Prob(Omnibus):                  0.001   Jarque-Bera (JB):               22.008\n",
       "Skew:                           0.062   Prob(JB):                     1.66e-05\n",
       "Kurtosis:                       3.718   Cond. No.                     1.68e+17\n",
       "==============================================================================\n",
       "\n",
       "Notes:\n",
       "[1] Standard Errors assume that the covariance matrix of the errors is correctly specified.\n",
       "[2] The smallest eigenvalue is 6.81e-28. This might indicate that there are\n",
       "strong multicollinearity problems or that the design matrix is singular.\n",
       "\"\"\""
      ]
     },
     "execution_count": 47,
     "metadata": {},
     "output_type": "execute_result"
    }
   ],
   "source": [
    "forward_model.summary()"
   ]
  },
  {
   "cell_type": "markdown",
   "id": "d774d925",
   "metadata": {},
   "source": [
    "This model is pretty similar to the model with all the predictors.\n",
    "- The adjusted $R^2$ is still 0.420.\n",
    "- The F-statistic is around 66, closer to the first model. \n",
    "This is likely because this model ended up selecting every predictor except for one, so not much difference will be noted between this and the full model."
   ]
  },
  {
   "cell_type": "markdown",
   "id": "37c30483",
   "metadata": {},
   "source": [
    "### Mixed Selection\n",
    "The final model is going to combine the two previous methods, into **mixed selection**. This consists of adding predictors that increase the $R^2$ of the model, while removing predictors with large p-values.\n",
    "\n",
    "One way to do this is to simply use the model created with forward selection, and then put it into the backward selection function."
   ]
  },
  {
   "cell_type": "code",
   "execution_count": 48,
   "id": "f3d4f049",
   "metadata": {},
   "outputs": [
    {
     "name": "stdout",
     "output_type": "stream",
     "text": [
      "Removing: Platform_Whatsapp, P-value: 0.8961791307044786\n",
      "Removing: Platform_Telegram, P-value: 0.6163182436733856\n",
      "Removing: Total_Activity, P-value: 0.5255216711383588\n",
      "Removing: Gender_Non_binary, P-value: 0.3791576258772811\n",
      "Removing: Platform_LinkedIn, P-value: 0.33227267459159515\n",
      "Removing: Platform_Snapchat, P-value: 0.46940854941584487\n",
      "Removing: Platform_Facebook, P-value: 0.22957073282719556\n"
     ]
    }
   ],
   "source": [
    "mixed_model, mixed_predictors = backward_selection(train_bin, forward_predictors, alpha = 0.05)"
   ]
  },
  {
   "cell_type": "code",
   "execution_count": 49,
   "id": "08d28892",
   "metadata": {
    "scrolled": false
   },
   "outputs": [
    {
     "data": {
      "text/html": [
       "<table class=\"simpletable\">\n",
       "<caption>OLS Regression Results</caption>\n",
       "<tr>\n",
       "  <th>Dep. Variable:</th>     <td>Encoded_Emotion</td> <th>  R-squared:         </th> <td>   0.424</td> \n",
       "</tr>\n",
       "<tr>\n",
       "  <th>Model:</th>                   <td>OLS</td>       <th>  Adj. R-squared:    </th> <td>   0.421</td> \n",
       "</tr>\n",
       "<tr>\n",
       "  <th>Method:</th>             <td>Least Squares</td>  <th>  F-statistic:       </th> <td>   121.5</td> \n",
       "</tr>\n",
       "<tr>\n",
       "  <th>Date:</th>             <td>Fri, 11 Oct 2024</td> <th>  Prob (F-statistic):</th> <td>5.73e-115</td>\n",
       "</tr>\n",
       "<tr>\n",
       "  <th>Time:</th>                 <td>20:06:36</td>     <th>  Log-Likelihood:    </th> <td> -912.97</td> \n",
       "</tr>\n",
       "<tr>\n",
       "  <th>No. Observations:</th>      <td>   996</td>      <th>  AIC:               </th> <td>   1840.</td> \n",
       "</tr>\n",
       "<tr>\n",
       "  <th>Df Residuals:</th>          <td>   989</td>      <th>  BIC:               </th> <td>   1874.</td> \n",
       "</tr>\n",
       "<tr>\n",
       "  <th>Df Model:</th>              <td>     6</td>      <th>                     </th>     <td> </td>    \n",
       "</tr>\n",
       "<tr>\n",
       "  <th>Covariance Type:</th>      <td>nonrobust</td>    <th>                     </th>     <td> </td>    \n",
       "</tr>\n",
       "</table>\n",
       "<table class=\"simpletable\">\n",
       "<tr>\n",
       "           <td></td>             <th>coef</th>     <th>std err</th>      <th>t</th>      <th>P>|t|</th>  <th>[0.025</th>    <th>0.975]</th>  \n",
       "</tr>\n",
       "<tr>\n",
       "  <th>Intercept</th>          <td>   -0.2703</td> <td>    0.153</td> <td>   -1.767</td> <td> 0.078</td> <td>   -0.571</td> <td>    0.030</td>\n",
       "</tr>\n",
       "<tr>\n",
       "  <th>Age</th>                <td>   -0.0270</td> <td>    0.005</td> <td>   -5.270</td> <td> 0.000</td> <td>   -0.037</td> <td>   -0.017</td>\n",
       "</tr>\n",
       "<tr>\n",
       "  <th>Daily_Usage_Time</th>   <td>    0.0059</td> <td>    0.001</td> <td>    6.521</td> <td> 0.000</td> <td>    0.004</td> <td>    0.008</td>\n",
       "</tr>\n",
       "<tr>\n",
       "  <th>Gender_Female</th>      <td>   -0.1568</td> <td>    0.054</td> <td>   -2.919</td> <td> 0.004</td> <td>   -0.262</td> <td>   -0.051</td>\n",
       "</tr>\n",
       "<tr>\n",
       "  <th>Gender_Male</th>        <td>   -0.1086</td> <td>    0.053</td> <td>   -2.048</td> <td> 0.041</td> <td>   -0.213</td> <td>   -0.005</td>\n",
       "</tr>\n",
       "<tr>\n",
       "  <th>Platform_Instagram</th> <td>    0.7113</td> <td>    0.085</td> <td>    8.346</td> <td> 0.000</td> <td>    0.544</td> <td>    0.878</td>\n",
       "</tr>\n",
       "<tr>\n",
       "  <th>Platform_Twitter</th>   <td>   -0.1857</td> <td>    0.054</td> <td>   -3.412</td> <td> 0.001</td> <td>   -0.293</td> <td>   -0.079</td>\n",
       "</tr>\n",
       "</table>\n",
       "<table class=\"simpletable\">\n",
       "<tr>\n",
       "  <th>Omnibus:</th>       <td>14.602</td> <th>  Durbin-Watson:     </th> <td>   1.953</td>\n",
       "</tr>\n",
       "<tr>\n",
       "  <th>Prob(Omnibus):</th> <td> 0.001</td> <th>  Jarque-Bera (JB):  </th> <td>  23.795</td>\n",
       "</tr>\n",
       "<tr>\n",
       "  <th>Skew:</th>          <td> 0.069</td> <th>  Prob(JB):          </th> <td>6.81e-06</td>\n",
       "</tr>\n",
       "<tr>\n",
       "  <th>Kurtosis:</th>      <td> 3.744</td> <th>  Cond. No.          </th> <td>    862.</td>\n",
       "</tr>\n",
       "</table><br/><br/>Notes:<br/>[1] Standard Errors assume that the covariance matrix of the errors is correctly specified."
      ],
      "text/plain": [
       "<class 'statsmodels.iolib.summary.Summary'>\n",
       "\"\"\"\n",
       "                            OLS Regression Results                            \n",
       "==============================================================================\n",
       "Dep. Variable:        Encoded_Emotion   R-squared:                       0.424\n",
       "Model:                            OLS   Adj. R-squared:                  0.421\n",
       "Method:                 Least Squares   F-statistic:                     121.5\n",
       "Date:                Fri, 11 Oct 2024   Prob (F-statistic):          5.73e-115\n",
       "Time:                        20:06:36   Log-Likelihood:                -912.97\n",
       "No. Observations:                 996   AIC:                             1840.\n",
       "Df Residuals:                     989   BIC:                             1874.\n",
       "Df Model:                           6                                         \n",
       "Covariance Type:            nonrobust                                         \n",
       "======================================================================================\n",
       "                         coef    std err          t      P>|t|      [0.025      0.975]\n",
       "--------------------------------------------------------------------------------------\n",
       "Intercept             -0.2703      0.153     -1.767      0.078      -0.571       0.030\n",
       "Age                   -0.0270      0.005     -5.270      0.000      -0.037      -0.017\n",
       "Daily_Usage_Time       0.0059      0.001      6.521      0.000       0.004       0.008\n",
       "Gender_Female         -0.1568      0.054     -2.919      0.004      -0.262      -0.051\n",
       "Gender_Male           -0.1086      0.053     -2.048      0.041      -0.213      -0.005\n",
       "Platform_Instagram     0.7113      0.085      8.346      0.000       0.544       0.878\n",
       "Platform_Twitter      -0.1857      0.054     -3.412      0.001      -0.293      -0.079\n",
       "==============================================================================\n",
       "Omnibus:                       14.602   Durbin-Watson:                   1.953\n",
       "Prob(Omnibus):                  0.001   Jarque-Bera (JB):               23.795\n",
       "Skew:                           0.069   Prob(JB):                     6.81e-06\n",
       "Kurtosis:                       3.744   Cond. No.                         862.\n",
       "==============================================================================\n",
       "\n",
       "Notes:\n",
       "[1] Standard Errors assume that the covariance matrix of the errors is correctly specified.\n",
       "\"\"\""
      ]
     },
     "execution_count": 49,
     "metadata": {},
     "output_type": "execute_result"
    }
   ],
   "source": [
    "mixed_model.summary()"
   ]
  },
  {
   "cell_type": "markdown",
   "id": "d6238d54",
   "metadata": {},
   "source": [
    "- The adjusted $R^2$ is 0.421, similar to all the previous models.\n",
    "- The F-statistic is large again, at 121.5, with a very small p-value.\n",
    "- And there aren't any predictors with p values greater than 0.05.\n",
    "- However, there is a p-value of 0.078 on the intercept - this shows that baseline emotion is not significantly significant when all the predictors are zero.\n",
    "\n",
    "Note: before combining some of the predictors that indicated collinearity into one predictor, the p-value on the intercept here was actually 0.88, much worse than it is now. This shows that having those collinear predictors was negatively impacting the model accuracy."
   ]
  },
  {
   "cell_type": "markdown",
   "id": "1cf992c7",
   "metadata": {},
   "source": [
    "One plot that can be useful is the residuals vs. predicted values plot. This can show if there are any patterns in the data and if the data shows signs of nonlinearity or homoscedasticity."
   ]
  },
  {
   "cell_type": "code",
   "execution_count": 50,
   "id": "702177dd",
   "metadata": {
    "scrolled": false
   },
   "outputs": [
    {
     "data": {
      "image/png": "[encoded data removed]",
      "text/plain": [
       "<Figure size 864x864 with 1 Axes>"
      ]
     },
     "metadata": {
      "needs_background": "light"
     },
     "output_type": "display_data"
    }
   ],
   "source": [
    "predictions = mixed_model.predict(X_test_bin)\n",
    "residuals = y_test_bin - predictions\n",
    "\n",
    "plt.figure(figsize = (12, 12))\n",
    "plt.scatter(predictions, residuals)\n",
    "plt.title('Residuals vs. Predicted Values')\n",
    "plt.xlabel('Predicted Values')\n",
    "plt.ylabel('Residuals')\n",
    "plt.show()"
   ]
  },
  {
   "cell_type": "markdown",
   "id": "b5234d4b",
   "metadata": {},
   "source": [
    "The three angled lines shows that there is some definite signs of nonlinearity within the data. Rather than being scattered around the horizontal line at 0, the values follow distinct lines."
   ]
  },
  {
   "cell_type": "markdown",
   "id": "ff586fa3",
   "metadata": {},
   "source": [
    "None of these four models seem to be a great fit for this data; however, the large F-statistics do indicate that the predictors are useful for predicting the response, but the data is likely just not linear. Other methods that are more flexible to collinearity, and can handle classification data, like the emotion variable, are ridge and lasso regression."
   ]
  },
  {
   "cell_type": "markdown",
   "id": "fb22260e",
   "metadata": {},
   "source": [
    "### Ridge and Lasso Regression"
   ]
  },
  {
   "cell_type": "markdown",
   "id": "ab773986",
   "metadata": {},
   "source": [
    "An advantage to using ridge and lasso methods, is that they weigh predictors by penalizing those that are not significant and boosting those that are. Another advantage is that they can even use classification data like the emotion response, and give a better prediction than just the encoded emotion from the linear regression."
   ]
  },
  {
   "cell_type": "markdown",
   "id": "0342cdeb",
   "metadata": {},
   "source": [
    "#### Ridge Regression"
   ]
  },
  {
   "cell_type": "code",
   "execution_count": 51,
   "id": "6607a7d1",
   "metadata": {},
   "outputs": [
    {
     "data": {
      "text/plain": [
       "LogisticRegression(max_iter=1000, multi_class='multinomial')"
      ]
     },
     "execution_count": 51,
     "metadata": {},
     "output_type": "execute_result"
    }
   ],
   "source": [
    "scaler = StandardScaler()\n",
    "X_train_scaled = scaler.fit_transform(X_train)\n",
    "X_test_scaled = scaler.fit_transform(X_test)\n",
    "\n",
    "ridge = LogisticRegression(penalty = 'l2', multi_class = 'multinomial', max_iter = 1000)\n",
    "ridge.fit(X_train_scaled, y_train)"
   ]
  },
  {
   "cell_type": "markdown",
   "id": "946c1dad",
   "metadata": {},
   "source": [
    "When first running this model, the following error came up:\n",
    "\n",
    "ConvergenceWarning: lbfgs failed to converge (status=1):\n",
    "STOP: TOTAL NO. of ITERATIONS REACHED LIMIT.\n",
    "\n",
    "Even with 1000 max iterations, which indicated that this is due to improperly scaled data. This is fixed by using Standard Scaler to properly scale the data and allowed the model to be made."
   ]
  },
  {
   "cell_type": "code",
   "execution_count": 52,
   "id": "bd06acab",
   "metadata": {},
   "outputs": [
    {
     "data": {
      "image/png": "[encoded data removed]",
      "text/plain": [
       "<Figure size 720x720 with 2 Axes>"
      ]
     },
     "metadata": {
      "needs_background": "light"
     },
     "output_type": "display_data"
    }
   ],
   "source": [
    "y_pred = ridge.predict(X_test_scaled)\n",
    "ridge_accuracy = accuracy_score(y_test, y_pred)\n",
    "ridge_precision = precision_score(y_test, y_pred, average = 'weighted', zero_division = 0)\n",
    "ridge_recall = recall_score(y_test, y_pred, average = 'weighted', zero_division = 0)\n",
    "ridge_f1 = f1_score(y_test, y_pred, average = 'weighted', zero_division = 0)\n",
    "\n",
    "\n",
    "class_labels = ridge.classes_\n",
    "\n",
    "cm = confusion_matrix(y_test, y_pred)\n",
    "\n",
    "%matplotlib inline\n",
    "plt.rcParams['figure.figsize'] = [10, 10]\n",
    "disp = ConfusionMatrixDisplay(confusion_matrix = cm, display_labels = class_labels)\n",
    "\n",
    "disp.plot(cmap = 'Greens')\n",
    "plt.show()"
   ]
  },
  {
   "cell_type": "markdown",
   "id": "e9dc330c",
   "metadata": {},
   "source": [
    "### Lasso Regression"
   ]
  },
  {
   "cell_type": "code",
   "execution_count": 53,
   "id": "fbea5d02",
   "metadata": {},
   "outputs": [
    {
     "data": {
      "text/plain": [
       "LogisticRegression(max_iter=1000, multi_class='multinomial', penalty='l1',\n",
       "                   solver='saga')"
      ]
     },
     "execution_count": 53,
     "metadata": {},
     "output_type": "execute_result"
    }
   ],
   "source": [
    "lasso = LogisticRegression(penalty = 'l1', solver = 'saga', multi_class = 'multinomial', max_iter = 1000)\n",
    "lasso.fit(X_train_scaled, y_train)"
   ]
  },
  {
   "cell_type": "code",
   "execution_count": 54,
   "id": "8d16535c",
   "metadata": {},
   "outputs": [
    {
     "data": {
      "image/png": "[encoded data removed]",
      "text/plain": [
       "<Figure size 720x720 with 2 Axes>"
      ]
     },
     "metadata": {
      "needs_background": "light"
     },
     "output_type": "display_data"
    }
   ],
   "source": [
    "y_pred = lasso.predict(X_test_scaled)\n",
    "lasso_accuracy = accuracy_score(y_test, y_pred)\n",
    "lasso_precision = precision_score(y_test, y_pred, average = 'weighted', zero_division = 0)\n",
    "lasso_recall = recall_score(y_test, y_pred, average = 'weighted', zero_division = 0)\n",
    "lasso_f1 = f1_score(y_test, y_pred, average = 'weighted', zero_division = 0)\n",
    "\n",
    "cm = confusion_matrix(y_test, y_pred)\n",
    "\n",
    "%matplotlib inline\n",
    "plt.rcParams['figure.figsize'] = [10, 10]\n",
    "disp = ConfusionMatrixDisplay(confusion_matrix = cm, display_labels = class_labels)\n",
    "disp.plot(cmap = 'Blues')\n",
    "plt.show()"
   ]
  },
  {
   "cell_type": "markdown",
   "id": "ce7a80c8",
   "metadata": {},
   "source": [
    "From the confusion matrices of these two models, it looks like they are pretty accurately predicting the response. Many of the labels are predicted correctly, and the two models seem to give fairly similar results. These will be looked at more in depth in the model evaluation section, but it seems like these are an improvement from the linear regression models."
   ]
  },
  {
   "cell_type": "markdown",
   "id": "642f7271",
   "metadata": {},
   "source": [
    "### Random Forest Classifier"
   ]
  },
  {
   "cell_type": "markdown",
   "id": "1c5c8b99",
   "metadata": {},
   "source": [
    "One final model to test out is the random forest classifier. The advantage of this model is that it often has high accuracy, since it combines multiple decisions trees. It also handles non-linear data well, which seems like might be a good fit for this data."
   ]
  },
  {
   "cell_type": "code",
   "execution_count": 55,
   "id": "ee6c1152",
   "metadata": {},
   "outputs": [
    {
     "data": {
      "text/plain": [
       "RandomForestClassifier(random_state=123)"
      ]
     },
     "execution_count": 55,
     "metadata": {},
     "output_type": "execute_result"
    }
   ],
   "source": [
    "random_forest = RandomForestClassifier(n_estimators = 100, random_state = 123)\n",
    "random_forest.fit(X_train, y_train)"
   ]
  },
  {
   "cell_type": "code",
   "execution_count": 56,
   "id": "2f533f39",
   "metadata": {},
   "outputs": [
    {
     "data": {
      "image/png": "[encoded data removed]",
      "text/plain": [
       "<Figure size 720x720 with 2 Axes>"
      ]
     },
     "metadata": {
      "needs_background": "light"
     },
     "output_type": "display_data"
    }
   ],
   "source": [
    "y_pred = random_forest.predict(X_test)\n",
    "rf_accuracy = accuracy_score(y_test, y_pred)\n",
    "rf_precision = precision_score(y_test, y_pred, average = 'weighted', zero_division = 0)\n",
    "rf_recall = recall_score(y_test, y_pred, average = 'weighted', zero_division = 0)\n",
    "rf_f1 = f1_score(y_test, y_pred, average = 'weighted', zero_division = 0)\n",
    "\n",
    "cm = confusion_matrix(y_test, y_pred)\n",
    "%matplotlib inline\n",
    "plt.rcParams['figure.figsize'] = [10, 10]\n",
    "disp = ConfusionMatrixDisplay(confusion_matrix = cm, display_labels = class_labels)\n",
    "disp.plot(cmap = 'Purples')\n",
    "plt.show()"
   ]
  },
  {
   "cell_type": "markdown",
   "id": "cd830f91",
   "metadata": {},
   "source": [
    "This model clearly predicts the response much more accurately than the lasso and ridge regression models. There are only a few times when this model predicted the response incorrectly, indicating a very good fit."
   ]
  },
  {
   "cell_type": "markdown",
   "id": "c7103125",
   "metadata": {},
   "source": [
    "___"
   ]
  },
  {
   "cell_type": "markdown",
   "id": "71ba2ed4",
   "metadata": {},
   "source": [
    "## Evaluating the Models\n",
    "Now that multiple models have been created, various performance metrics can be used to choose the best model."
   ]
  },
  {
   "cell_type": "markdown",
   "id": "690bd899",
   "metadata": {},
   "source": [
    "### Performance Metrics - Linear Regression\n",
    "Different performance metrics need to be used for the linear regression models than the classification ones. For linear regression, useful metrics include $R^2$ and adjusted $R^2$, F-statistics, and AIC/BIC."
   ]
  },
  {
   "cell_type": "code",
   "execution_count": 57,
   "id": "75d5aace",
   "metadata": {
    "scrolled": false
   },
   "outputs": [
    {
     "data": {
      "text/html": [
       "<div>\n",
       "<style scoped>\n",
       "    .dataframe tbody tr th:only-of-type {\n",
       "        vertical-align: middle;\n",
       "    }\n",
       "\n",
       "    .dataframe tbody tr th {\n",
       "        vertical-align: top;\n",
       "    }\n",
       "\n",
       "    .dataframe thead th {\n",
       "        text-align: right;\n",
       "    }\n",
       "</style>\n",
       "<table border=\"1\" class=\"dataframe\">\n",
       "  <thead>\n",
       "    <tr style=\"text-align: right;\">\n",
       "      <th></th>\n",
       "      <th>Model</th>\n",
       "      <th>Number of Predictors</th>\n",
       "      <th>R-Squared</th>\n",
       "      <th>Adjusted R-Squared</th>\n",
       "      <th>F-Statistic</th>\n",
       "      <th>p-value (F-statistics)</th>\n",
       "      <th>AIC</th>\n",
       "      <th>BIC</th>\n",
       "    </tr>\n",
       "  </thead>\n",
       "  <tbody>\n",
       "    <tr>\n",
       "      <th>0</th>\n",
       "      <td>Linear Regression - All Predictors</td>\n",
       "      <td>13</td>\n",
       "      <td>0.426</td>\n",
       "      <td>0.420</td>\n",
       "      <td>66.5</td>\n",
       "      <td>9.63e-111</td>\n",
       "      <td>1846</td>\n",
       "      <td>1905</td>\n",
       "    </tr>\n",
       "    <tr>\n",
       "      <th>1</th>\n",
       "      <td>Linear Regression - Backward Selection</td>\n",
       "      <td>6</td>\n",
       "      <td>0.424</td>\n",
       "      <td>0.421</td>\n",
       "      <td>121.5</td>\n",
       "      <td>5.73e-115</td>\n",
       "      <td>1840</td>\n",
       "      <td>1874</td>\n",
       "    </tr>\n",
       "    <tr>\n",
       "      <th>2</th>\n",
       "      <td>Linear Regression - Forward Selection</td>\n",
       "      <td>12</td>\n",
       "      <td>0.426</td>\n",
       "      <td>0.420</td>\n",
       "      <td>66.5</td>\n",
       "      <td>9.63e-111</td>\n",
       "      <td>1846</td>\n",
       "      <td>1905</td>\n",
       "    </tr>\n",
       "    <tr>\n",
       "      <th>3</th>\n",
       "      <td>Linear Regression - Mixed Selection</td>\n",
       "      <td>6</td>\n",
       "      <td>0.424</td>\n",
       "      <td>0.421</td>\n",
       "      <td>121.5</td>\n",
       "      <td>5.73e-115</td>\n",
       "      <td>1840</td>\n",
       "      <td>1874</td>\n",
       "    </tr>\n",
       "  </tbody>\n",
       "</table>\n",
       "</div>"
      ],
      "text/plain": [
       "                                    Model  Number of Predictors  R-Squared  \\\n",
       "0      Linear Regression - All Predictors                    13      0.426   \n",
       "1  Linear Regression - Backward Selection                     6      0.424   \n",
       "2   Linear Regression - Forward Selection                    12      0.426   \n",
       "3     Linear Regression - Mixed Selection                     6      0.424   \n",
       "\n",
       "   Adjusted R-Squared  F-Statistic p-value (F-statistics)   AIC   BIC  \n",
       "0               0.420         66.5              9.63e-111  1846  1905  \n",
       "1               0.421        121.5              5.73e-115  1840  1874  \n",
       "2               0.420         66.5              9.63e-111  1846  1905  \n",
       "3               0.421        121.5              5.73e-115  1840  1874  "
      ]
     },
     "execution_count": 57,
     "metadata": {},
     "output_type": "execute_result"
    }
   ],
   "source": [
    "linear_regression_comparisons = {\n",
    "    \"Model\": [\"Linear Regression - All Predictors\", \"Linear Regression - Backward Selection\", \"Linear Regression - Forward Selection\", \"Linear Regression - Mixed Selection\"], \n",
    "    \"Number of Predictors\": [13, 6, 12, 6],\n",
    "    \"R-Squared\": [0.426, 0.424, 0.426, 0.424],\n",
    "    \"Adjusted R-Squared\": [0.420, 0.421, 0.420, 0.421],\n",
    "    \"F-Statistic\": [66.50, 121.50, 66.50,  121.5],\n",
    "    \"p-value (F-statistics)\": [\"9.63e-111\", \"5.73e-115\", \"9.63e-111\", \"5.73e-115\"],\n",
    "    \"AIC\": [1846, 1840, 1846, 1840],\n",
    "    \"BIC\": [1905, 1874, 1905, 1874],\n",
    "}\n",
    "LR_comparisons_df = pd.DataFrame(linear_regression_comparisons)\n",
    "LR_comparisons_df"
   ]
  },
  {
   "cell_type": "markdown",
   "id": "dbb8e0f2",
   "metadata": {},
   "source": [
    "The first thing to note is that it looks like the mixed selection method may have ended up choosing the same predictors as the backward selection method, since all the performance metrics are the same. This means that maybe backward selection was a good enough method to use for this data, and forward selection wasn't necessary.\n",
    "\n",
    "The $R^2$ and adjusted $R^2$ values for all four of the lienar regression models are very similar, around 0.42. This indicates that about 42% of the total variance in the response is explained by the model, which is not great. The F-statistics were very high for those models, especially the backward and mixed selection models, which indicates that the predictors in these models represent the data well, but they just might not be linear.\n",
    "\n",
    "The AIC (Akaike Information Criterion) estimates the quality of the models for the data, with lower values indicating a better model. And the BIC (Bayesian Information Criterion) is similar to AIC but includes a penalty fot the number of parameters. The AIC for all the models is fairly similar, but lower for the backward and mixed selection. The BIC has a wider range since it is penalizing the models with more parameters. Backward and mixed selection have the lowest values for that category as well.\n",
    "\n",
    "From these metrics, backward and mixed selection seem to have worked best for this data, with backward being prefered since it is simpler to compute. However, none of these models seem to be a great fit with such low $R^2$ values."
   ]
  },
  {
   "cell_type": "markdown",
   "id": "0917e828",
   "metadata": {},
   "source": [
    "### Performance Metrics - Ridge and Lasso Regression and Random Forest Classifier\n",
    "Now, for the models that aimed to classify emotion into the different classes, different metrics can be used to analyze how well they did so: accuracy, precision, recall, and F1 score. These values are shown for the three other models made here: ridge regression, lasso regression, and random forest classifier."
   ]
  },
  {
   "cell_type": "code",
   "execution_count": 58,
   "id": "bd023498",
   "metadata": {},
   "outputs": [
    {
     "data": {
      "text/html": [
       "<div>\n",
       "<style scoped>\n",
       "    .dataframe tbody tr th:only-of-type {\n",
       "        vertical-align: middle;\n",
       "    }\n",
       "\n",
       "    .dataframe tbody tr th {\n",
       "        vertical-align: top;\n",
       "    }\n",
       "\n",
       "    .dataframe thead th {\n",
       "        text-align: right;\n",
       "    }\n",
       "</style>\n",
       "<table border=\"1\" class=\"dataframe\">\n",
       "  <thead>\n",
       "    <tr style=\"text-align: right;\">\n",
       "      <th></th>\n",
       "      <th>Model</th>\n",
       "      <th>Accuracy</th>\n",
       "      <th>Precision</th>\n",
       "      <th>Recall</th>\n",
       "      <th>F1 Score</th>\n",
       "    </tr>\n",
       "  </thead>\n",
       "  <tbody>\n",
       "    <tr>\n",
       "      <th>0</th>\n",
       "      <td>Ridge Regression</td>\n",
       "      <td>0.554217</td>\n",
       "      <td>0.542265</td>\n",
       "      <td>0.554217</td>\n",
       "      <td>0.540504</td>\n",
       "    </tr>\n",
       "    <tr>\n",
       "      <th>1</th>\n",
       "      <td>Lasso Regression</td>\n",
       "      <td>0.546185</td>\n",
       "      <td>0.531953</td>\n",
       "      <td>0.546185</td>\n",
       "      <td>0.533586</td>\n",
       "    </tr>\n",
       "    <tr>\n",
       "      <th>2</th>\n",
       "      <td>Random Forest Classifier</td>\n",
       "      <td>0.983936</td>\n",
       "      <td>0.984101</td>\n",
       "      <td>0.983936</td>\n",
       "      <td>0.983918</td>\n",
       "    </tr>\n",
       "  </tbody>\n",
       "</table>\n",
       "</div>"
      ],
      "text/plain": [
       "                      Model  Accuracy  Precision    Recall  F1 Score\n",
       "0          Ridge Regression  0.554217   0.542265  0.554217  0.540504\n",
       "1          Lasso Regression  0.546185   0.531953  0.546185  0.533586\n",
       "2  Random Forest Classifier  0.983936   0.984101  0.983936  0.983918"
      ]
     },
     "execution_count": 58,
     "metadata": {},
     "output_type": "execute_result"
    }
   ],
   "source": [
    "ridge_lasso_rf_comparisons = {\n",
    "    \"Model\": [\"Ridge Regression\", \"Lasso Regression\", \"Random Forest Classifier\"], \n",
    "    \"Accuracy\": [ridge_accuracy, lasso_accuracy, rf_accuracy],\n",
    "    \"Precision\": [ridge_precision, lasso_precision, rf_precision],\n",
    "    \"Recall\": [ridge_recall, lasso_recall, rf_recall],\n",
    "    \"F1 Score\": [ridge_f1, lasso_f1, rf_f1],\n",
    "    \n",
    "}\n",
    "\n",
    "ridge_lasso_rf_comparisons_df = pd.DataFrame(ridge_lasso_rf_comparisons)\n",
    "ridge_lasso_rf_comparisons_df"
   ]
  },
  {
   "cell_type": "markdown",
   "id": "ebabf6e0",
   "metadata": {},
   "source": [
    "- Accuracy gives a general feel for model performance, but is sensitive to imbalanced datasets. From the bar graph of the emotion variable earlier, this data does show slight imbalance of classes. Regardless, the accuracy for the random forest classifier is much higher (0.98) than the ridge and lasso regression (~0.55).\n",
    "- Precision is most useful when trying to avoid false positives, because it looks at true positives. This value is also much higher for random forest classifier than ridge and lasso regression.\n",
    "- Recall is useful when trying to avoid false negatives, since it looks at all actual positive cases and how many are handels correctly. This value is also much higher for random forest classifier.\n",
    "- F1 score balances precision and recall, which may be most beneficial to the goal of this project, since it doesn't lean too far either way when it comes to prioritizing true positives vs. true negatives. This score is also much higher for random forest classifier."
   ]
  },
  {
   "cell_type": "markdown",
   "id": "aedce7cb",
   "metadata": {},
   "source": [
    "___"
   ]
  },
  {
   "cell_type": "markdown",
   "id": "cda0d876",
   "metadata": {},
   "source": [
    "## Discussion"
   ]
  },
  {
   "cell_type": "markdown",
   "id": "c3967702",
   "metadata": {},
   "source": [
    "### Model Selection - Random Forest Classifier\n",
    "Overall, it is clear that the random forest classifier performed far better than any of the other models. This is likely due to its robustness to collinearity as well as non-linear data, and the fact that it requires less fine tuning than most other models.\n",
    "\n",
    "Lasso and ridge regression, though they have advantages stated earlier, assume a linear relationship between the predictors and response, which this data may not have. Even if it performed better than the OSL model, the random forest classifier still far out performed all of these models."
   ]
  },
  {
   "cell_type": "markdown",
   "id": "08a1c263",
   "metadata": {},
   "source": [
    "### Reflection\n",
    "There are quite a few things I would have done differently if I were to start this project from the beginning again, as well as things I would do if I had endless time to spend on this project:\n",
    "\n",
    "- Starting over, I would not have spent so much time on linear regression methods, as I came to realize later than my predictors do not have a linear relationship with the response. \n",
    "- I would have plotted my residuals plot for the linear regression models earlier to see this.\n",
    "- I also would have spent more time on different classification models, like support vector machines (SVM) and K-nearest neighbors (KNN). \n",
    "- I would have spent more time trying to get the variance inflation factors (VIF) printing properly, as I spent a lot of time trying to get this to work and was only semi-successful.\n",
    "- Combining my collinear features into one predictor helped my models significantly, so I would have done this earlier on if I knew.\n",
    "- Spend more time to iterate my random forest classifier model to improve it.\n",
    "\n",
    "One issue I also struggled with in this project was how to organize all the data. It is easy to play around with different functions and go back and forth between modelling and feature engineering and data cleaning, but it is much harder to actually organize this data clearly for someone else to understand, without overloading it with too many details.\n",
    "\n",
    "Overall, there are so many different approaches to supervised learning and an infinite amoutn of time could be spent on these methods. After spending much time with the approaches I chose, I am glad to have found at least one model that was able to predict my data with 98% accuracy. Since this was such an open ended project, I really learned a lot about choosing models based on the type of data I am given, including the most important information and making informed decisions, and even learning about the different kinds of data that is available out there. "
   ]
  }
 ],
 "metadata": {
  "kernelspec": {
   "display_name": "Python 3 (ipykernel)",
   "language": "python",
   "name": "python3"
  },
  "language_info": {
   "codemirror_mode": {
    "name": "ipython",
    "version": 3
   },
   "file_extension": ".py",
   "mimetype": "text/x-python",
   "name": "python",
   "nbconvert_exporter": "python",
   "pygments_lexer": "ipython3",
   "version": "3.9.12"
  }
 },
 "nbformat": 4,
 "nbformat_minor": 5
}
